{
 "cells": [
  {
   "cell_type": "code",
   "execution_count": 2,
   "id": "2a504e65",
   "metadata": {},
   "outputs": [],
   "source": [
    "# Declare variables\n",
    "x=1\n",
    "y=10"
   ]
  },
  {
   "cell_type": "code",
   "execution_count": 4,
   "id": "3e0b79c3",
   "metadata": {},
   "outputs": [
    {
     "name": "stdout",
     "output_type": "stream",
     "text": [
      "x is equal to 1\n"
     ]
    }
   ],
   "source": [
    "\n",
    "# Check if one value is equal to another:\n",
    "if x ==1: \n",
    "    print(\"x is equal to 1\")"
   ]
  },
  {
   "cell_type": "code",
   "execution_count": 5,
   "id": "b816edf5",
   "metadata": {},
   "outputs": [
    {
     "name": "stdout",
     "output_type": "stream",
     "text": [
      "x != y\n"
     ]
    }
   ],
   "source": [
    "\n",
    "# Check if one value is NOT equal to another\n",
    "if x != y:\n",
    "    print(\"x != y\")"
   ]
  },
  {
   "cell_type": "code",
   "execution_count": 6,
   "id": "03f96529",
   "metadata": {},
   "outputs": [
    {
     "name": "stdout",
     "output_type": "stream",
     "text": [
      "x < y\n"
     ]
    }
   ],
   "source": [
    "\n",
    "# Check if one value is less than another\n",
    "if x < y:\n",
    "    print(\"x < y\")"
   ]
  },
  {
   "cell_type": "code",
   "execution_count": 7,
   "id": "1b23d9e7",
   "metadata": {},
   "outputs": [
    {
     "name": "stdout",
     "output_type": "stream",
     "text": [
      "y > x\n"
     ]
    }
   ],
   "source": [
    "\n",
    "# Check if one value is greater than another\n",
    "if y > x:\n",
    "    print(\"y > x\")"
   ]
  },
  {
   "cell_type": "code",
   "execution_count": 8,
   "id": "6ef55d3d",
   "metadata": {},
   "outputs": [
    {
     "name": "stdout",
     "output_type": "stream",
     "text": [
      "y >= x\n"
     ]
    }
   ],
   "source": [
    "\n",
    "# Check if a value is greater than or equal to another\n",
    "if  y >= x:\n",
    "    print(\"y >= x\")"
   ]
  },
  {
   "cell_type": "code",
   "execution_count": 20,
   "id": "1e4fa73d",
   "metadata": {},
   "outputs": [
    {
     "name": "stdout",
     "output_type": "stream",
     "text": [
      "How are you feeling?\n"
     ]
    }
   ],
   "source": [
    "\n",
    "# Use a Boolean to check a condition\n",
    "#Congratulations = True\n",
    "Congratulations = False\n",
    "\n",
    "if Congratulations: \n",
    "    print(\"Congratulations!\")\n",
    "else:\n",
    "    print(\"How are you feeling?\")"
   ]
  },
  {
   "cell_type": "code",
   "execution_count": 28,
   "id": "283aa390",
   "metadata": {},
   "outputs": [],
   "source": [
    "\n",
    "# Get an input from a user\n",
    "user_input = input(\"What number would you like to check?\")"
   ]
  },
  {
   "cell_type": "code",
   "execution_count": 29,
   "id": "42fb76b3",
   "metadata": {},
   "outputs": [
    {
     "name": "stdout",
     "output_type": "stream",
     "text": [
      "5a is not a number!\n"
     ]
    }
   ],
   "source": [
    "\n",
    "# Check if the user input is a number\n",
    "if user_input.isdigit():\n",
    "    number = int(user_input)\n",
    "    print(f\"{user_input} is a number!\")\n",
    "else:\n",
    "    print(f\"{user_input} is not a number!\")\n"
   ]
  }
 ],
 "metadata": {
  "kernelspec": {
   "display_name": "dev",
   "language": "python",
   "name": "python3"
  },
  "language_info": {
   "codemirror_mode": {
    "name": "ipython",
    "version": 3
   },
   "file_extension": ".py",
   "mimetype": "text/x-python",
   "name": "python",
   "nbconvert_exporter": "python",
   "pygments_lexer": "ipython3",
   "version": "3.10.14"
  }
 },
 "nbformat": 4,
 "nbformat_minor": 5
}
