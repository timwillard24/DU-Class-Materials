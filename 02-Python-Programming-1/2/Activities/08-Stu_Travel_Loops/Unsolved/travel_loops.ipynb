{
 "cells": [
  {
   "cell_type": "code",
   "execution_count": 13,
   "id": "a1fbf777",
   "metadata": {},
   "outputs": [],
   "source": [
    "# Declare lists\n",
    "cities = [\"Rome\", \"Nairobi\", \"Phnom Penh\", \"Santiago\", \"Toronto\", \"Rotorua\"]\n",
    "cities_daily_cost = [150, 70, 60, 80, 110, 125]"
   ]
  },
  {
   "cell_type": "code",
   "execution_count": 16,
   "id": "2a180780",
   "metadata": {},
   "outputs": [
    {
     "name": "stdout",
     "output_type": "stream",
     "text": [
      "['Rome', 'Nairobi', 'Phnom Penh', 'Santiago', 'Toronto', 'Rotorua', 'New York', '', '', 'New York', '', '', 'Atlanta', '', '']\n"
     ]
    }
   ],
   "source": [
    "# Loop 3 times through the cities list\n",
    "for _ in range(3):\n",
    "    # Ask the user for a city and convert it to title case\n",
    "    city = input(\"What city would you like to add?\").title()\n",
    "# Append the city to the cities list\n",
    "    cities.append(city)\n",
    "print(cities)"
   ]
  },
  {
   "cell_type": "code",
   "execution_count": 17,
   "id": "b4aaa099",
   "metadata": {},
   "outputs": [],
   "source": [
    "\n",
    "# Use a while loop to append to the cities_daily_cost list as long as that list\n",
    "# is shorter than the cities list\n",
    "while len(cities_daily_cost) < len(cities):\n",
    "    # Use the length of cities_daily_cost for the index of cities to print its\n",
    "    # value when asking the cost to append to the cities_daily_cost list\n",
    "    index = len(cities_daily_cost)\n",
    "    cost = int(input(f\"What is the cost per day for {cities[index]} \"))\n",
    "    cities_daily_cost.append(cost)"
   ]
  },
  {
   "cell_type": "code",
   "execution_count": 18,
   "id": "6f7cbb69",
   "metadata": {},
   "outputs": [
    {
     "name": "stdout",
     "output_type": "stream",
     "text": [
      "[150, 70, 60, 80, 110, 125, 100, 0, 0, 100, 0, 0, 85, 0, 0]\n"
     ]
    }
   ],
   "source": [
    "print(cities_daily_cost)"
   ]
  },
  {
   "cell_type": "code",
   "execution_count": 20,
   "id": "73ecddce",
   "metadata": {},
   "outputs": [
    {
     "name": "stdout",
     "output_type": "stream",
     "text": [
      "[160, 80, 70, 90, 120, 135, 110, 10, 10, 110, 10, 10, 95, 10, 10]\n"
     ]
    }
   ],
   "source": [
    "\n",
    "# Loop through the cities_daily_cost list and add 10 to each item\n",
    "for i in range(len(cities_daily_cost)):\n",
    "    cities_daily_cost [i] += 10\n",
    "print(cities_daily_cost)\n"
   ]
  },
  {
   "cell_type": "code",
   "execution_count": 21,
   "id": "f4c99969",
   "metadata": {},
   "outputs": [
    {
     "name": "stdout",
     "output_type": "stream",
     "text": [
      "The daily cost of Rome is 160\n",
      "The daily cost of Nairobi is 80\n",
      "The daily cost of Phnom Penh is 70\n",
      "The daily cost of Santiago is 90\n",
      "The daily cost of Toronto is 120\n",
      "The daily cost of Rotorua is 135\n",
      "The daily cost of New York is 110\n",
      "The daily cost of  is 10\n",
      "The daily cost of  is 10\n",
      "The daily cost of New York is 110\n",
      "The daily cost of  is 10\n",
      "The daily cost of  is 10\n",
      "The daily cost of Atlanta is 95\n",
      "The daily cost of  is 10\n",
      "The daily cost of  is 10\n"
     ]
    }
   ],
   "source": [
    "\n",
    "# Use a for loop to loop through both of the lists at the same time, since\n",
    "# they're the same length, and print out the city and daily cost on the same\n",
    "# line\n",
    "for i in range(len(cities)):\n",
    "    print(f\"The daily cost of {cities [i]} is {cities_daily_cost[i]}\")\n"
   ]
  }
 ],
 "metadata": {
  "kernelspec": {
   "display_name": "dev",
   "language": "python",
   "name": "python3"
  },
  "language_info": {
   "codemirror_mode": {
    "name": "ipython",
    "version": 3
   },
   "file_extension": ".py",
   "mimetype": "text/x-python",
   "name": "python",
   "nbconvert_exporter": "python",
   "pygments_lexer": "ipython3",
   "version": "3.10.14"
  }
 },
 "nbformat": 4,
 "nbformat_minor": 5
}
