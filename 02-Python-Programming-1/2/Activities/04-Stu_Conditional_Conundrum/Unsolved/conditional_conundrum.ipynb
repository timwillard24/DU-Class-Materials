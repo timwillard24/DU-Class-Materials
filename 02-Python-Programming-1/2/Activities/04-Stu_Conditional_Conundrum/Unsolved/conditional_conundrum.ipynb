{
 "cells": [
  {
   "cell_type": "code",
   "execution_count": 2,
   "id": "a9195552",
   "metadata": {},
   "outputs": [
    {
     "name": "stdout",
     "output_type": "stream",
     "text": [
      "Question 1 works!\n"
     ]
    }
   ],
   "source": [
    "# 1. \n",
    "x = 6\n",
    "if 2 * x > 10:\n",
    "    print(\"Question 1 works!\")\n",
    "else:\n",
    "    print(\"oooo needs some work\")"
   ]
  },
  {
   "cell_type": "code",
   "execution_count": 11,
   "id": "3c3d96e8",
   "metadata": {},
   "outputs": [
    {
     "name": "stdout",
     "output_type": "stream",
     "text": [
      "Still missing out\n"
     ]
    }
   ],
   "source": [
    "# 2. \n",
    "x = 5\n",
    "if len(\"donut\") < x:\n",
    "    print(\"Question 2 works!\")\n",
    "else:\n",
    "    print(\"Still missing out\")"
   ]
  },
  {
   "cell_type": "code",
   "execution_count": 19,
   "id": "4d6dc494",
   "metadata": {},
   "outputs": [
    {
     "name": "stdout",
     "output_type": "stream",
     "text": [
      "GOT QUESTION 3!\n"
     ]
    }
   ],
   "source": [
    "# 3. \n",
    "x = 3\n",
    "y = 27\n",
    "if (x ** 3 >= y):\n",
    "    print(\"GOT QUESTION 3!\")\n",
    "else:\n",
    "    print(\"This one didn't work\")"
   ]
  },
  {
   "cell_type": "code",
   "execution_count": 23,
   "id": "4027e278",
   "metadata": {},
   "outputs": [
    {
     "name": "stdout",
     "output_type": "stream",
     "text": [
      "Madagascar is in Africa\n"
     ]
    }
   ],
   "source": [
    "# 4. \n",
    "country = \"Madagascar\"\n",
    "if country == \"Madagascar\":\n",
    "    print(f\"{country} is in Africa\")\n",
    "else:\n",
    "    print(f\"{country} is not in Africa\")"
   ]
  },
  {
   "cell_type": "code",
   "execution_count": 26,
   "id": "828a25bf",
   "metadata": {},
   "outputs": [
    {
     "name": "stdout",
     "output_type": "stream",
     "text": [
      "You're going places!\n"
     ]
    }
   ],
   "source": [
    "# 5. \n",
    "going_places = True\n",
    "if going_places:\n",
    "    print(\"You're going places!\")\n",
    "else:\n",
    "    print(\"You prefer to stay at home.\")"
   ]
  },
  {
   "cell_type": "code",
   "execution_count": 38,
   "id": "600a4b83",
   "metadata": {},
   "outputs": [
    {
     "name": "stdout",
     "output_type": "stream",
     "text": [
      "The plane flew at 66,000 feet\n"
     ]
    }
   ],
   "source": [
    "# 6. \n",
    "altitude = input(\"What is the altitude?\")\n",
    "if altitude.isdigit():\n",
    "    altitude_int = int(altitude)\n",
    "    print(f\"The plane flew at {altitude_int:,} feet\")\n",
    "else:\n",
    "    print(f\"{altitude:,} cannot be converted to a number\")\n"
   ]
  }
 ],
 "metadata": {
  "kernelspec": {
   "display_name": "dev",
   "language": "python",
   "name": "python3"
  },
  "language_info": {
   "codemirror_mode": {
    "name": "ipython",
    "version": 3
   },
   "file_extension": ".py",
   "mimetype": "text/x-python",
   "name": "python",
   "nbconvert_exporter": "python",
   "pygments_lexer": "ipython3",
   "version": "3.10.14"
  }
 },
 "nbformat": 4,
 "nbformat_minor": 5
}
