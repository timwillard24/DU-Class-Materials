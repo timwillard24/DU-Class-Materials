{
 "cells": [
  {
   "cell_type": "code",
   "execution_count": 56,
   "id": "50932c97",
   "metadata": {},
   "outputs": [],
   "source": [
    "# Declare variables\n",
    "x = 1\n",
    "y = 10"
   ]
  },
  {
   "cell_type": "code",
   "execution_count": 57,
   "id": "e7d98860",
   "metadata": {},
   "outputs": [
    {
     "name": "stdout",
     "output_type": "stream",
     "text": [
      "Both values are correct\n",
      "One value could be correct\n"
     ]
    }
   ],
   "source": [
    "# Logical operators: \"and\" and \"or\"\n",
    "if x == 1 and y ==10:\n",
    "    print(\"Both values are correct\")\n",
    "if x == 1 or y == \"potato\":\n",
    "    print(\"One value could be correct\")"
   ]
  },
  {
   "cell_type": "code",
   "execution_count": 58,
   "id": "c9e3b86b",
   "metadata": {},
   "outputs": [
    {
     "name": "stdout",
     "output_type": "stream",
     "text": [
      "Both values are correct\n"
     ]
    }
   ],
   "source": [
    "# Check for two conditions to be met using \"and\"\n",
    "if x == 1 and y ==10:\n",
    "    print(\"Both values are correct\")"
   ]
  },
  {
   "cell_type": "code",
   "execution_count": 59,
   "id": "7dc4fc53",
   "metadata": {},
   "outputs": [
    {
     "name": "stdout",
     "output_type": "stream",
     "text": [
      "One value could be correct\n"
     ]
    }
   ],
   "source": [
    "\n",
    "# Check if either of two conditions is met using \"or\"\n",
    "if x == 1 or y == \"potato\":\n",
    "    print(\"One value could be correct\")"
   ]
  },
  {
   "cell_type": "code",
   "execution_count": 60,
   "id": "74536178",
   "metadata": {},
   "outputs": [
    {
     "name": "stdout",
     "output_type": "stream",
     "text": [
      "x is not equal to y\n"
     ]
    }
   ],
   "source": [
    "\n",
    "# Check if a condition is not true\n",
    "if  not (x == y):\n",
    "    print(\"x is not equal to y\")"
   ]
  },
  {
   "cell_type": "code",
   "execution_count": 61,
   "id": "87a541ec",
   "metadata": {},
   "outputs": [
    {
     "name": "stdout",
     "output_type": "stream",
     "text": [
      "Put the plate on the top shelf\n"
     ]
    }
   ],
   "source": [
    "\n",
    "# Check multiple conditions\n",
    "plate = \"fancy\"\n",
    "if plate == \"cracked\":\n",
    "    print(\"Throw the plate in the trash\")\n",
    "elif plate == \"fancy\":\n",
    "    print(\"Put the plate on the top shelf\")\n",
    "else:\n",
    "    print(\"Put the plate on the bottom shelf\")"
   ]
  },
  {
   "cell_type": "code",
   "execution_count": null,
   "id": "b1e43b26",
   "metadata": {},
   "outputs": [],
   "source": [
    "\n",
    "# Conditionals with membership operators: \"in\" and \"not in\""
   ]
  },
  {
   "cell_type": "code",
   "execution_count": 62,
   "id": "bd73e4dd",
   "metadata": {},
   "outputs": [],
   "source": [
    "# Check if a variable is in a list\n",
    "name = \"Tim\"\n",
    "group_one = [\"Jorge\", \"Joon\", \"Susan\"]\n",
    "group_two = [\"Gerald\", \"Paola\", \"Ryder\"]\n",
    "group_three = [\"Farah\", \"Amidah\", \"Koen\"]"
   ]
  },
  {
   "cell_type": "code",
   "execution_count": 63,
   "id": "42e89261",
   "metadata": {},
   "outputs": [
    {
     "name": "stdout",
     "output_type": "stream",
     "text": [
      "The name is not in any group\n"
     ]
    }
   ],
   "source": [
    "if name in group_one:\n",
    "    print(f\"{name} in group 1\")\n",
    "elif name in group_two:\n",
    "    print(f\"{name} in group 2\")\n",
    "elif name in group_three:\n",
    "    print(f\"{name} in group 3\")\n",
    "else:\n",
    "    print(\"The name is not in any group\")"
   ]
  },
  {
   "cell_type": "code",
   "execution_count": 64,
   "id": "cb3dcce3",
   "metadata": {},
   "outputs": [],
   "source": [
    "# Check if a variable is not in a list\n",
    "countries = [\"Fiji\", \"Australia\", \"New Zealand\", \"Papua New Guinea\", \"Palau\"\n",
    "             \"Solomon Islands\", \"Micronesia\", \"Vanuatu\", \"Samoa\", \"Kiribati\",\n",
    "             \"Tonga\", \"Marshall Islands\", \"Tuvalu\", \"Nauru\"]\n",
    "country = \"Kenya\""
   ]
  },
  {
   "cell_type": "code",
   "execution_count": null,
   "id": "0d37e6ee",
   "metadata": {},
   "outputs": [],
   "source": []
  },
  {
   "cell_type": "code",
   "execution_count": 65,
   "id": "988489de",
   "metadata": {},
   "outputs": [
    {
     "name": "stdout",
     "output_type": "stream",
     "text": [
      "Kenya Not in Oceania\n"
     ]
    }
   ],
   "source": [
    "# Conditionals with identity operators: \"is\" and \"is not\"\n",
    "if country not in countries:\n",
    "    print(country + \" Not in Oceania\")\n",
    "else:\n",
    "    print(country + \" is in Oceania\")"
   ]
  },
  {
   "cell_type": "code",
   "execution_count": 66,
   "id": "156e1020",
   "metadata": {},
   "outputs": [
    {
     "name": "stdout",
     "output_type": "stream",
     "text": [
      "Countries is a list\n"
     ]
    }
   ],
   "source": [
    "# Check if a variable is a list\n",
    "if type(countries) is  list:\n",
    "    print(\"Countries is a list\")"
   ]
  },
  {
   "cell_type": "code",
   "execution_count": 67,
   "id": "eb7862c7",
   "metadata": {},
   "outputs": [
    {
     "name": "stdout",
     "output_type": "stream",
     "text": [
      "Country is NOT a list\n"
     ]
    }
   ],
   "source": [
    "\n",
    "# Check if a variable is not a list\n",
    "if type(country) is not  list:\n",
    "    print(\"Country is NOT a list\")"
   ]
  },
  {
   "cell_type": "code",
   "execution_count": 68,
   "id": "d68ab2d9",
   "metadata": {},
   "outputs": [
    {
     "name": "stdout",
     "output_type": "stream",
     "text": [
      "X is an integer\n"
     ]
    }
   ],
   "source": [
    "\n",
    "# Check if a variable is a float or integer\n",
    "if type (x) is float:\n",
    "    print (\"x is a float\")\n",
    "if type (x) is int:\n",
    "    print (\"X is an integer\")\n",
    "else:\n",
    "    print(\"x is not a number\")"
   ]
  },
  {
   "cell_type": "code",
   "execution_count": 75,
   "id": "d3d44cae",
   "metadata": {},
   "outputs": [],
   "source": [
    "\n",
    "# Check multiple conditions with comparison and logical operators\n",
    "height = 64\n",
    "age = 21\n",
    "adult_permission = True"
   ]
  },
  {
   "cell_type": "code",
   "execution_count": 77,
   "id": "5f07bd28",
   "metadata": {},
   "outputs": [
    {
     "name": "stdout",
     "output_type": "stream",
     "text": [
      "Can ride light roller coasters\n"
     ]
    }
   ],
   "source": [
    "if (height > 70) and (age >= 18):\n",
    "    print(\"Can ride all the roller coasters\")\n",
    "elif (height > 65) and (age >= 18):\n",
    "    print(\"Can ride moderate roller coasters\")\n",
    "elif (height > 60) and (age >= 18):\n",
    "    print(\"Can ride light roller coasters\")\n",
    "elif ((height > 50) and (age >= 18)) or ((adult_permission) and (height > 50)):\n",
    "    print(\"Can ride bumper cars\")\n",
    "else:\n",
    "    print(\"Stick to lazy river\")"
   ]
  }
 ],
 "metadata": {
  "kernelspec": {
   "display_name": "dev",
   "language": "python",
   "name": "python3"
  },
  "language_info": {
   "codemirror_mode": {
    "name": "ipython",
    "version": 3
   },
   "file_extension": ".py",
   "mimetype": "text/x-python",
   "name": "python",
   "nbconvert_exporter": "python",
   "pygments_lexer": "ipython3",
   "version": "3.10.14"
  }
 },
 "nbformat": 4,
 "nbformat_minor": 5
}
