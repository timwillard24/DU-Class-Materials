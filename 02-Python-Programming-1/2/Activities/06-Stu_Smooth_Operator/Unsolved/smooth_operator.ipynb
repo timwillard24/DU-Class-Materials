{
 "cells": [
  {
   "cell_type": "code",
   "execution_count": 50,
   "id": "890e7fac",
   "metadata": {},
   "outputs": [],
   "source": [
    "# Declare variables\n",
    "budget = 900\n",
    "cities = [\"Rome\", \"Nairobi\", \"Phnom Penh\", \"Santiago\", \"Toronto\", \"Rotorua\"]\n",
    "cities_daily_cost = [150, 70, 60, 80, 110, 125]\n",
    "days = input(\"How many days can you travel? \")\n",
    "city_to_visit = input(\"What city would you like to visit? \")"
   ]
  },
  {
   "cell_type": "code",
   "execution_count": 51,
   "id": "70c87fab",
   "metadata": {},
   "outputs": [
    {
     "name": "stdout",
     "output_type": "stream",
     "text": [
      "You chose 8 days in Rome\n"
     ]
    }
   ],
   "source": [
    "# Check if days is a number, and convert it to an integer if it is\n",
    "if days.isdigit():\n",
    "    days = int(days)\n",
    "    print(f\"You chose {days} days in {city_to_visit}\")\n",
    "    # Else print an error\n",
    "else:\n",
    "    print(f\"Input ({days}) was not a number!\")"
   ]
  },
  {
   "cell_type": "code",
   "execution_count": 52,
   "id": "52cdc336",
   "metadata": {},
   "outputs": [
    {
     "name": "stdout",
     "output_type": "stream",
     "text": [
      "112.5\n"
     ]
    }
   ],
   "source": [
    "\n",
    "# Check if budget and days are integers, and if so, calculate the daily budget\n",
    "if type(days) is int and type(budget) is int:\n",
    "    daily_budget = budget / days\n",
    "    print(daily_budget)\n",
    "# Else print an error\n",
    "else:\n",
    "    print(\"There was an error calculating the daily budget\")"
   ]
  },
  {
   "cell_type": "code",
   "execution_count": 53,
   "id": "ee0bc67a",
   "metadata": {},
   "outputs": [],
   "source": [
    "\n",
    "# Check if the city_to_visit is in the cities list, and if so,\n",
    "if city_to_visit in cities:\n",
    "# get the daily cost for the city\n",
    "    city_index = cities.index(city_to_visit)\n",
    "    city_daily_cost = cities_daily_cost[city_index]\n",
    "else: \n",
    "    city_daily_cost = 0"
   ]
  },
  {
   "cell_type": "code",
   "execution_count": 54,
   "id": "873bef90",
   "metadata": {},
   "outputs": [
    {
     "name": "stdout",
     "output_type": "stream",
     "text": [
      "You'll have to wait to travel when you can afford $37.5 more per day.\n"
     ]
    }
   ],
   "source": [
    "# Else print an error\n",
    "if city_daily_cost > 0 and city_daily_cost <= daily_budget:\n",
    "    # Tell the traveler they can afford the vacation\n",
    "    print(\n",
    "        f\"You can afford the trip to {city_to_visit} for {days} days with \"\n",
    "        + f\"your daily budget of ${daily_budget} because the daily cost is $\"\n",
    "        + str(city_daily_cost)\n",
    "    )\n",
    "# Else if the city_daily_cost is greater than 0 and greater than the daily\n",
    "# budget\n",
    "elif city_daily_cost > 0 and city_daily_cost > daily_budget:\n",
    "    # Calculate and print out how much more per day the traveler needs\n",
    "    need_daily = city_daily_cost - daily_budget\n",
    "    print(\n",
    "        f\"You'll have to wait to travel when you can afford ${need_daily} \"\n",
    "        + \"more per day.\"\n",
    "    )\n",
    "# Else print an error\n",
    "else:\n",
    "    print(\"City was not in list. We cannot make any recommendations.\")\n"
   ]
  }
 ],
 "metadata": {
  "kernelspec": {
   "display_name": "dev",
   "language": "python",
   "name": "python3"
  },
  "language_info": {
   "codemirror_mode": {
    "name": "ipython",
    "version": 3
   },
   "file_extension": ".py",
   "mimetype": "text/x-python",
   "name": "python",
   "nbconvert_exporter": "python",
   "pygments_lexer": "ipython3",
   "version": "3.10.14"
  }
 },
 "nbformat": 4,
 "nbformat_minor": 5
}
