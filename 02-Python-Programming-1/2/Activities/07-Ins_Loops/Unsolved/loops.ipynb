{
 "cells": [
  {
   "cell_type": "code",
   "execution_count": 1,
   "id": "8e8dc510",
   "metadata": {},
   "outputs": [
    {
     "name": "stdout",
     "output_type": "stream",
     "text": [
      "0\n",
      "1\n",
      "2\n",
      "3\n",
      "4\n"
     ]
    }
   ],
   "source": [
    "# Loop through a range of numbers (0 through 4)\n",
    "for x in range(5):\n",
    "    print(x)"
   ]
  },
  {
   "cell_type": "code",
   "execution_count": 2,
   "id": "9f45910f",
   "metadata": {},
   "outputs": [
    {
     "name": "stdout",
     "output_type": "stream",
     "text": [
      "----------------------------------------\n"
     ]
    }
   ],
   "source": [
    "\n",
    "print(\"-\" * 40)"
   ]
  },
  {
   "cell_type": "code",
   "execution_count": 4,
   "id": "c7671a6c",
   "metadata": {},
   "outputs": [
    {
     "name": "stdout",
     "output_type": "stream",
     "text": [
      "2\n",
      "3\n",
      "4\n",
      "5\n",
      "6\n"
     ]
    }
   ],
   "source": [
    "# Loop through a range of numbers (2 through 6 - yes 6! Up to, but not\n",
    "# including, 7)\n",
    "for x in range(2, 7):\n",
    "    print(x)"
   ]
  },
  {
   "cell_type": "code",
   "execution_count": 5,
   "id": "14033fe4",
   "metadata": {},
   "outputs": [
    {
     "name": "stdout",
     "output_type": "stream",
     "text": [
      "----------------------------------------\n"
     ]
    }
   ],
   "source": [
    "\n",
    "print(\"-\" * 40)"
   ]
  },
  {
   "cell_type": "code",
   "execution_count": 13,
   "id": "3387c08f",
   "metadata": {},
   "outputs": [
    {
     "name": "stdout",
     "output_type": "stream",
     "text": [
      "4\n",
      "6\n",
      "8\n",
      "10\n",
      "12\n"
     ]
    }
   ],
   "source": [
    "# Loop through a range of numbers (0 through 4) without using the value in the\n",
    "# range\n",
    "y = 2\n",
    "for _ in range(5):\n",
    "    # Add 2 to the value of y\n",
    "    y += 2\n",
    "    print(y)\n"
   ]
  },
  {
   "cell_type": "code",
   "execution_count": 8,
   "id": "2f9f07ba",
   "metadata": {},
   "outputs": [
    {
     "name": "stdout",
     "output_type": "stream",
     "text": [
      "2\n"
     ]
    }
   ],
   "source": []
  },
  {
   "cell_type": "code",
   "execution_count": 14,
   "id": "99f67f6d",
   "metadata": {},
   "outputs": [
    {
     "name": "stdout",
     "output_type": "stream",
     "text": [
      "----------------------------------------\n"
     ]
    }
   ],
   "source": [
    "\n",
    "print(\"-\" * 40)"
   ]
  },
  {
   "cell_type": "code",
   "execution_count": 18,
   "id": "28370b49",
   "metadata": {},
   "outputs": [
    {
     "name": "stdout",
     "output_type": "stream",
     "text": [
      "I\n",
      "t\n",
      "e\n",
      "r\n",
      "a\n",
      "t\n",
      "e\n"
     ]
    }
   ],
   "source": [
    "# Iterate through letters in a string\n",
    "word = \"Iterate\"\n",
    "for letter in word:\n",
    "    print(letter)"
   ]
  },
  {
   "cell_type": "code",
   "execution_count": 19,
   "id": "d28b2a51",
   "metadata": {},
   "outputs": [
    {
     "name": "stdout",
     "output_type": "stream",
     "text": [
      "----------------------------------------\n"
     ]
    }
   ],
   "source": [
    "\n",
    "print(\"-\" * 40)"
   ]
  },
  {
   "cell_type": "code",
   "execution_count": 25,
   "id": "48d92cf2",
   "metadata": {},
   "outputs": [
    {
     "name": "stdout",
     "output_type": "stream",
     "text": [
      "CALLAWAY\n",
      "MIZUNO\n",
      "TAYLOR MADE\n",
      "KIRKLAND\n",
      "TOMMY ARMOR\n"
     ]
    }
   ],
   "source": [
    "# Iterate through a list\n",
    "golf = [\"callaway\", \"mizuno\", \"taylor made\", \"kirkland\", \"tommy armor\"]\n",
    "for brand in golf:\n",
    "    print(brand.upper())"
   ]
  },
  {
   "cell_type": "code",
   "execution_count": 26,
   "id": "1a99dcd0",
   "metadata": {},
   "outputs": [
    {
     "name": "stdout",
     "output_type": "stream",
     "text": [
      "DELL\n",
      "----------------------------------------\n",
      "THINKBOOK\n",
      "----------------------------------------\n",
      "IBM\n",
      "----------------------------------------\n",
      "ALIENWARE\n",
      "----------------------------------------\n",
      "QPPLE\n",
      "----------------------------------------\n"
     ]
    }
   ],
   "source": [
    "computers =[\"dell\", \"thinkbook\", \"ibm\", \"alienware\", \"qpple\"]\n",
    "for type in computers:\n",
    "    print(type.upper())\n",
    "    print(\"-\" * 40)"
   ]
  },
  {
   "cell_type": "code",
   "execution_count": 40,
   "id": "3783d5e3",
   "metadata": {},
   "outputs": [
    {
     "name": "stdout",
     "output_type": "stream",
     "text": [
      "252\n",
      "255\n",
      "254\n",
      "271\n"
     ]
    }
   ],
   "source": [
    "# Make changes to each item in a list\n",
    "numbers = [5, 8, 7, 24]\n",
    "for i in range(len(numbers)):\n",
    "    numbers [i] += 247\n",
    "    print(numbers[i])"
   ]
  },
  {
   "cell_type": "code",
   "execution_count": 45,
   "id": "c48156de",
   "metadata": {},
   "outputs": [
    {
     "name": "stdout",
     "output_type": "stream",
     "text": [
      "54\n",
      "59\n",
      "63\n",
      "76\n",
      "97\n",
      "----------------------------------------\n"
     ]
    }
   ],
   "source": [
    "numbers = [12,17,21,34, 55]\n",
    "for i in range(len(numbers)):\n",
    "    numbers [i] += 42\n",
    "    print(numbers [i])\n",
    "print(\"-\" * 40)"
   ]
  },
  {
   "cell_type": "code",
   "execution_count": 51,
   "id": "c092f676",
   "metadata": {},
   "outputs": [],
   "source": [
    "# Loop while a condition is being met\n",
    "run = \"y\""
   ]
  },
  {
   "cell_type": "code",
   "execution_count": 53,
   "id": "d6921a6b",
   "metadata": {},
   "outputs": [
    {
     "name": "stdout",
     "output_type": "stream",
     "text": [
      "Hi\n",
      "Hi\n",
      "Hi\n"
     ]
    }
   ],
   "source": [
    "# run.lower() means the condition will be met if run = \"y\" or run = \"Y\"\n",
    "while run.lower() == \"y\": \n",
    "    print(\"Hi\") \n",
    "    run = input(\"To run again press 'y': \")\n"
   ]
  },
  {
   "cell_type": "code",
   "execution_count": 56,
   "id": "a840bdae",
   "metadata": {},
   "outputs": [
    {
     "name": "stdout",
     "output_type": "stream",
     "text": [
      "Hi\n",
      "Hi\n",
      "Hi\n",
      "Hi\n"
     ]
    }
   ],
   "source": [
    "keep_looping = True\n",
    "# While loop with a Boolean variable\n",
    "while keep_looping:\n",
    "    print(\"Hi\")\n",
    "    keep_looping = bool(input(\"Press enter to exit and anything else to continue. \"))"
   ]
  }
 ],
 "metadata": {
  "kernelspec": {
   "display_name": "dev",
   "language": "python",
   "name": "python3"
  },
  "language_info": {
   "codemirror_mode": {
    "name": "ipython",
    "version": 3
   },
   "file_extension": ".py",
   "mimetype": "text/x-python",
   "name": "python",
   "nbconvert_exporter": "python",
   "pygments_lexer": "ipython3",
   "version": "3.10.14"
  }
 },
 "nbformat": 4,
 "nbformat_minor": 5
}
