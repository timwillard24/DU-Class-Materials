{
 "cells": [
  {
   "cell_type": "code",
   "execution_count": null,
   "id": "064e614a",
   "metadata": {},
   "outputs": [],
   "source": [
    "\"\"\"Creating a Car class with methods and instances\"\"\""
   ]
  },
  {
   "cell_type": "code",
   "execution_count": null,
   "id": "bc9a1639",
   "metadata": {},
   "outputs": [],
   "source": [
    "\n",
    "# Define the Car class\n",
    "class Car:\n",
    "    \"\"\"Creating a Car class with parameters and methods\"\"\"\n",
    "    def __init__(self, make, model, body, engine, year, color):\n",
    "        self.make = make\n",
    "        self.model = model\n",
    "        self.body = body\n",
    "        self.engine = engine\n",
    "        self.year = year\n",
    "        self.color = color\n",
    "\n",
    "    # Create a method to get the make of the car\n",
    "    def get_make(self):\n",
    "        \"\"\"Returns the make of the car\"\"\"\n",
    "        return self.make\n",
    "\n",
    "    # Create a method to get the model of the car\n",
    "    def get_model(self):\n",
    "        \"\"\"Returns the model of the car\"\"\"\n",
    "        return self.model\n",
    "\n",
    "    # Create a method to get the body of the car\n",
    "    def get_body(self):\n",
    "        \"\"\"Returns the body of the car\"\"\"\n",
    "        return self.body\n",
    "\n",
    "    # Create a method to get the engine of the car\n",
    "    def get_engine(self):\n",
    "        \"\"\"Returns the engine of the car\"\"\"\n",
    "        return self.engine\n",
    "\n",
    "    # Create a method to get the year of the car\n",
    "    def get_year(self):\n",
    "        \"\"\"Returns the year of the car\"\"\"\n",
    "        return self.year\n",
    "\n",
    "    # Create a method to get the color of the car\n",
    "    def get_color(self):\n",
    "        \"\"\"Returns the color of the car\"\"\"\n",
    "        return self.color\n",
    "\n",
    "    # Create three setter methods to change three parameters of the `Car` class.\n",
    "    # YOUR SETTER METHODS GO HERE\n",
    "\n"
   ]
  },
  {
   "cell_type": "code",
   "execution_count": null,
   "id": "13aa725f",
   "metadata": {},
   "outputs": [],
   "source": [
    "    # Create three setter methods to change three parameters of the `Car` class.\n",
    "    # YOUR SETTER METHODS GO HERE"
   ]
  },
  {
   "cell_type": "code",
   "execution_count": null,
   "id": "31f5f5ad",
   "metadata": {},
   "outputs": [],
   "source": []
  },
  {
   "cell_type": "code",
   "execution_count": null,
   "id": "3c2803b8",
   "metadata": {},
   "outputs": [],
   "source": [
    "\n",
    "# Create an instance of the Car class\n",
    "# Use the following default information or create your own default data.\n",
    "car = Car(\"Subaru\", \"CrossTrek Limited\", \"SUV\", \"2.5L, 4 cylinder\",\"2020\", \"Pearl Blue\")"
   ]
  },
  {
   "cell_type": "code",
   "execution_count": null,
   "id": "ca6d2a27",
   "metadata": {},
   "outputs": [],
   "source": [
    "# Get the current information on the car.\n",
    "print('Here are the details of the car.')\n",
    "print(f\"Make: {car.get_make()}\")\n",
    "print(f\"Model: {car.get_model()}\")\n",
    "print(f\"Body: {car.get_body()}\")\n",
    "print(f\"Engine Type: {car.get_engine()}\")\n",
    "print(f\"Year made: {car.get_year()}\")\n",
    "print(f\"Color: {car.get_color()}\")"
   ]
  },
  {
   "cell_type": "code",
   "execution_count": null,
   "id": "ce2daefd",
   "metadata": {},
   "outputs": [],
   "source": [
    "# Prompt the user to change the three parameters for the car.\n",
    "# Hint create new variables for each prompt."
   ]
  },
  {
   "cell_type": "code",
   "execution_count": null,
   "id": "b97b4493",
   "metadata": {},
   "outputs": [],
   "source": [
    "\n",
    "# Pass the updated car information from the user to the setter method you created above."
   ]
  },
  {
   "cell_type": "code",
   "execution_count": null,
   "id": "b52d1ad5",
   "metadata": {},
   "outputs": [],
   "source": [
    "\n",
    "# Print the updated information of the car.\n",
    "print('Here are the updated details of the car.')\n",
    "print(f\"Make: {car.get_make()}\")\n",
    "print(f\"Model: {car.get_model()}\")\n",
    "print(f\"Body: {car.get_body()}\")\n",
    "print(f\"Engine Type: {car.get_engine()}\")\n",
    "print(f\"Year made: {car.get_year()}\")\n",
    "print(f\"Color: {car.get_color()}\")\n"
   ]
  }
 ],
 "metadata": {
  "language_info": {
   "name": "python"
  }
 },
 "nbformat": 4,
 "nbformat_minor": 5
}
