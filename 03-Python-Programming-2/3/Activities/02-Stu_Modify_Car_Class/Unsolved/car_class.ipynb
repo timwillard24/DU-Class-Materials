{
 "cells": [
  {
   "cell_type": "code",
   "execution_count": null,
   "id": "e6a7e9bb",
   "metadata": {},
   "outputs": [],
   "source": [
    "\"\"\"Creating a Car class with methods and instances\"\"\""
   ]
  },
  {
   "cell_type": "code",
   "execution_count": null,
   "id": "8cf0fc8d",
   "metadata": {},
   "outputs": [],
   "source": [
    "# Define the Car class\n",
    "class Car:\n",
    "    \"\"\"Creating a Car class with 6 parameters and instances\"\"\""
   ]
  },
  {
   "cell_type": "code",
   "execution_count": null,
   "id": "2837d2fd",
   "metadata": {},
   "outputs": [],
   "source": [
    "\n",
    "# Prompt the user to enter the information for the car for each parameter.\n",
    "# Hint: Make sure the year is an integer."
   ]
  },
  {
   "cell_type": "code",
   "execution_count": null,
   "id": "578538ec",
   "metadata": {},
   "outputs": [],
   "source": [
    "# Create an instance of the `Car` class and pass in the variables from the user.\n",
    "car = Car()"
   ]
  },
  {
   "cell_type": "code",
   "execution_count": null,
   "id": "7c166c56",
   "metadata": {},
   "outputs": [],
   "source": [
    "# Print the details of the car\n",
    "print('Here is the information you enter for the car.')\n"
   ]
  }
 ],
 "metadata": {},
 "nbformat": 4,
 "nbformat_minor": 5
}
