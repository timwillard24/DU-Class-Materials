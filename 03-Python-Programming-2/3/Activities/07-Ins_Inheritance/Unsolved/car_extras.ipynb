{
 "cells": [
  {
   "cell_type": "code",
   "execution_count": null,
   "id": "8d9c1afd",
   "metadata": {},
   "outputs": [],
   "source": [
    "# Import the Car and CarExtras classes from the CarData.py file.\n",
    "from CarData import CarExtras"
   ]
  },
  {
   "cell_type": "code",
   "execution_count": null,
   "id": "439a9b95",
   "metadata": {},
   "outputs": [],
   "source": [
    "# Create an instance of the CarExtras class.\n",
    "my_car = CarExtras(\"Toyota\", \"Camry\", \"Sedan\", \"2.5L\", 2022, \"Silver\", \"Yes\", \"Yes\", \"No\", \"No\")"
   ]
  },
  {
   "cell_type": "code",
   "execution_count": null,
   "id": "c9367233",
   "metadata": {},
   "outputs": [],
   "source": [
    "# Get the current make\n",
    "print('Here are the details of the car.')\n",
    "print(f\"Make: {my_car.get_make()}\")\n",
    "print(f\"Model: {my_car.get_model()}\")\n",
    "print(f\"Body: {my_car.get_body()}\")\n",
    "print(f\"Engine Type: {my_car.get_engine()}\")\n",
    "print(f\"Year made: {my_car.get_year()}\")\n",
    "print(f\"Color: {my_car.get_color()}\")\n",
    "print(f\"Anti-Theft: {my_car.get_anti_theft()}\")\n",
    "print(f\"Alarm: {my_car.get_alarm()}\")\n",
    "print(f\"Tint: {my_car.get_tint()}\")\n",
    "print(f\"Extended Warranty: {my_car.get_ext_warranty()}\")\n"
   ]
  }
 ],
 "metadata": {},
 "nbformat": 4,
 "nbformat_minor": 5
}
