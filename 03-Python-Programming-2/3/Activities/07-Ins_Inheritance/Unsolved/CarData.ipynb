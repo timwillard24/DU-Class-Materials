{
 "cells": [
  {
   "cell_type": "code",
   "execution_count": null,
   "id": "c45b47c6",
   "metadata": {},
   "outputs": [],
   "source": [
    "\"\"\"Creating a Car class with methods and instances\"\"\""
   ]
  },
  {
   "cell_type": "code",
   "execution_count": null,
   "id": "cd53d7f4",
   "metadata": {},
   "outputs": [],
   "source": [
    "# Define the Car class\n",
    "class Car:\n",
    "    \"\"\"Creating a Car class with methods\"\"\"\n",
    "    def __init__(self, make, model, body, engine, year, color):\n",
    "        self.make = make\n",
    "        self.model = model\n",
    "        self.body = body\n",
    "        self.engine = engine\n",
    "        self.year = year\n",
    "        self.color = color"
   ]
  },
  {
   "cell_type": "code",
   "execution_count": null,
   "id": "16913e1a",
   "metadata": {},
   "outputs": [],
   "source": [
    "    # Create a method to get the make of the car\n",
    "    def get_make(self):\n",
    "        \"\"\"Returns the make of the car\"\"\"\n",
    "        return self.make"
   ]
  },
  {
   "cell_type": "code",
   "execution_count": null,
   "id": "c9173ec8",
   "metadata": {},
   "outputs": [],
   "source": [
    "    # Create a method to get the model of the car\n",
    "    def get_model(self):\n",
    "       \"\"\"Returns the model of the car\"\"\"\n",
    "       return self.model"
   ]
  },
  {
   "cell_type": "code",
   "execution_count": null,
   "id": "067857eb",
   "metadata": {},
   "outputs": [],
   "source": [
    "    # Create a method to get the body of the car\n",
    "    def get_body(self):\n",
    "        \"\"\"Returns the body of the car\"\"\"\n",
    "        return self.body"
   ]
  },
  {
   "cell_type": "code",
   "execution_count": null,
   "id": "7a706ee2",
   "metadata": {},
   "outputs": [],
   "source": [
    "    # Create a method to get the engine of the car\n",
    "    def get_engine(self):\n",
    "       \"\"\"Returns the engine of the car\"\"\"\n",
    "       return self.engine"
   ]
  },
  {
   "cell_type": "code",
   "execution_count": null,
   "id": "a16cda05",
   "metadata": {},
   "outputs": [],
   "source": [
    "    # Create a method to get the year of the car\n",
    "    def get_year(self):\n",
    "        \"\"\"Returns the year of the car\"\"\"\n",
    "        return self.year"
   ]
  },
  {
   "cell_type": "code",
   "execution_count": null,
   "id": "1c802725",
   "metadata": {},
   "outputs": [],
   "source": [
    "    # Create a method to get the color of the car\n",
    "    def get_color(self):\n",
    "       \"\"\"Returns the color of the car\"\"\"\n",
    "       return self.color"
   ]
  },
  {
   "cell_type": "code",
   "execution_count": null,
   "id": "0acf790b",
   "metadata": {},
   "outputs": [],
   "source": [
    "    # Create a method to change the model of the car\n",
    "    def set_model(self, new_model):\n",
    "        \"\"\"Sets the make of the car\"\"\"\n",
    "        self.model = new_model"
   ]
  },
  {
   "cell_type": "code",
   "execution_count": null,
   "id": "fbc3705e",
   "metadata": {},
   "outputs": [],
   "source": [
    "# Define the CarExtras class that inherits the attributes from the Car class.\n",
    "class CarExtras(Car):\n",
    "    \"\"\"Creating a CarExtras class with methods\"\"\"\n",
    "    def __init__(self, make, model, body, engine, year, color, anti_theft, alarm, tint, ext_warranty):\n",
    "        # Call the parent class's __init__ method and pass the required arguments.\n",
    "        Car.__init__(self, make, model, body, engine, year, color)"
   ]
  },
  {
   "cell_type": "code",
   "execution_count": null,
   "id": "66b8529b",
   "metadata": {},
   "outputs": [],
   "source": [
    "        # Initialize the attributes for the CarExtras class.\n",
    "        self.anti_theft = anti_theft\n",
    "        self.alarm = alarm\n",
    "        self.tint = tint\n",
    "        self.ext_warranty = ext_warranty"
   ]
  },
  {
   "cell_type": "code",
   "execution_count": null,
   "id": "14e1c9c6",
   "metadata": {},
   "outputs": [],
   "source": [
    "    def get_anti_theft(self):\n",
    "        \"\"\"Sets the antitheft for the car\"\"\"\n",
    "        return self.anti_theft"
   ]
  },
  {
   "cell_type": "code",
   "execution_count": null,
   "id": "45d944fc",
   "metadata": {},
   "outputs": [],
   "source": [
    "    def get_alarm(self):\n",
    "        \"\"\"Sets the alarm for the car\"\"\"\n",
    "        return self.alarm"
   ]
  },
  {
   "cell_type": "code",
   "execution_count": null,
   "id": "3396c25e",
   "metadata": {},
   "outputs": [],
   "source": [
    "    def get_tint(self):\n",
    "        \"\"\"Sets the tint for the car\"\"\"\n",
    "        return self.tint"
   ]
  },
  {
   "cell_type": "code",
   "execution_count": null,
   "id": "5f59f0e9",
   "metadata": {},
   "outputs": [],
   "source": [
    "    def get_ext_warranty(self):\n",
    "        \"\"\"Sets the extended warranty for the car\"\"\"\n",
    "        return self.ext_warranty\n"
   ]
  }
 ],
 "metadata": {},
 "nbformat": 4,
 "nbformat_minor": 5
}
