{
 "cells": [
  {
   "cell_type": "code",
   "execution_count": null,
   "id": "9a2d599a",
   "metadata": {},
   "outputs": [],
   "source": [
    "# Import the Car and CarExtras classes from the CarData.py file.\n",
    "from CarData import CarExtras"
   ]
  },
  {
   "cell_type": "code",
   "execution_count": null,
   "id": "9746d554",
   "metadata": {},
   "outputs": [],
   "source": [
    "# Create an instance of the CarExtras class.\n",
    "my_car = CarExtras(\"Toyota\", \"Camry\", \"Sedan\", \"2.5L\", 2022, \"Silver\", \"Yes\", \"Yes\", \"No\", \"No\")"
   ]
  },
  {
   "cell_type": "code",
   "execution_count": null,
   "id": "eb72c2c4",
   "metadata": {},
   "outputs": [],
   "source": [
    "#  Update the car's model.\n",
    "my_car.set_model(\"Crown XLE\")"
   ]
  },
  {
   "cell_type": "code",
   "execution_count": null,
   "id": "25e1325c",
   "metadata": {},
   "outputs": [],
   "source": [
    "# Get the updated details of the car.\n",
    "print('Here are the details of the car.')\n",
    "print(f\"Make: {my_car.get_make()}\")\n",
    "print(f\"Model: {my_car.get_model()}\")\n",
    "print(f\"Body: {my_car.get_body()}\")\n",
    "print(f\"Engine Type: {my_car.get_engine()}\")\n",
    "print(f\"Year made: {my_car.get_year()}\")\n",
    "print(f\"Color: {my_car.get_color()}\")\n",
    "print(f\"Anti-Theft: {my_car.get_anti_theft()}\")\n",
    "print(f\"Alarm: {my_car.get_alarm()}\")\n",
    "print(f\"Tint: {my_car.get_tint()}\")\n",
    "print(f\"Extended Warranty: {my_car.get_ext_warranty()}\")\n"
   ]
  }
 ],
 "metadata": {},
 "nbformat": 4,
 "nbformat_minor": 5
}
