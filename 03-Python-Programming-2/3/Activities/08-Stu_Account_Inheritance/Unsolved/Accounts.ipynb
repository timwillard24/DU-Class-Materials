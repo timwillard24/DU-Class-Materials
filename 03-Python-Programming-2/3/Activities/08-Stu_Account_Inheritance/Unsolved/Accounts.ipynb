{
 "cells": [
  {
   "cell_type": "code",
   "execution_count": null,
   "id": "0a32084d",
   "metadata": {},
   "outputs": [],
   "source": [
    "\"\"\" Create a SavingsAccount and CD class with methods\"\"\""
   ]
  },
  {
   "cell_type": "code",
   "execution_count": null,
   "id": "54b6fa92",
   "metadata": {},
   "outputs": [],
   "source": [
    "\n",
    "class SavingsAccount:\n",
    "    \"\"\"Creating a Savings Account class with parameters and methods\"\"\"\n",
    "    def __init__(): # ADD YOUR CODE HERE\n",
    "        # ADD YOUR CODE HERE\n",
    "\n",
    "    # This method gets the balance of the savings account.\n",
    "    def get_balance(self):\n",
    "        \"\"\"Gets the balance for the savings account\"\"\"\n",
    "        # ADD YOUR CODE HERE\n",
    "\n",
    "    # This method gets the interest rate of the savings account.\n",
    "    def get_interest(self):\n",
    "        \"\"\"Gets the interest rate for the savings account\"\"\"\n",
    "        # ADD YOUR CODE HERE\n"
   ]
  },
  {
   "cell_type": "code",
   "execution_count": null,
   "id": "35a5510a",
   "metadata": {},
   "outputs": [],
   "source": [
    "class CD(SavingsAccount):\n",
    "    \"\"\"Creating a CD Account class with parameters and methods\"\"\"\n",
    "    def __init__(): # ADD YOUR CODE HERE\n",
    "       # Call the parent class's __init__ method and pass the required arguments\n",
    "        SavingsAccount.__init__()\n",
    "        # ADD YOUR CODE HERE\n",
    "\n",
    "    # This method gets the length of months for the CD.\n",
    "    def get_months(self):\n",
    "        \"\"\"Gets the length of the CD\"\"\"\n",
    "        # ADD YOUR CODE HERE"
   ]
  }
 ],
 "metadata": {
  "language_info": {
   "name": "python"
  }
 },
 "nbformat": 4,
 "nbformat_minor": 5
}
