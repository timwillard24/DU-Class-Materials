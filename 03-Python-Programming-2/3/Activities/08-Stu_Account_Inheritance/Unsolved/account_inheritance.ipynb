{
 "cells": [
  {
   "cell_type": "code",
   "execution_count": null,
   "id": "1481de70",
   "metadata": {},
   "outputs": [],
   "source": [
    "# Import the SavingsAccount and CD classes from the Accounts.py file.\n",
    "# ADD YOUR CODE HERE"
   ]
  },
  {
   "cell_type": "code",
   "execution_count": null,
   "id": "8fa2b0a0",
   "metadata": {},
   "outputs": [],
   "source": [
    "# Prompt the user to set the savings balance and interest rate.\n",
    "# ADD YOUR CODE HERE"
   ]
  },
  {
   "cell_type": "code",
   "execution_count": null,
   "id": "078393ed",
   "metadata": {},
   "outputs": [],
   "source": [
    "# Create an instance of the `SavingsAccount` class that sets the users savings account balance and interest.\n",
    "# ADD YOUR CODE HERE\n",
    "# savings_data ="
   ]
  },
  {
   "cell_type": "code",
   "execution_count": null,
   "id": "7e70b616",
   "metadata": {},
   "outputs": [],
   "source": [
    "# Prompt the user to set the CD balance, interest rate, and months for the CD.\n",
    "# ADD YOUR CODE HERE"
   ]
  },
  {
   "cell_type": "code",
   "execution_count": null,
   "id": "529aed71",
   "metadata": {},
   "outputs": [],
   "source": [
    "# Create an instance of the `CD` class that sets the users cd account balance, interest, and length of months.\n",
    "# ADD YOUR CODE HERE\n",
    "# cd_data ="
   ]
  },
  {
   "cell_type": "code",
   "execution_count": null,
   "id": "feb1215d",
   "metadata": {},
   "outputs": [],
   "source": [
    "# Display the savings account data.\n",
    "print('Here are the details of the savings account.')\n",
    "print(\"The balance is: $\", format(savings_data.get_balance(), ',.2f'))\n",
    "print(\"APR Interest Rate is: \", format(savings_data.get_interest(), ',.2f'),\"%\")"
   ]
  },
  {
   "cell_type": "code",
   "execution_count": null,
   "id": "1344cc97",
   "metadata": {},
   "outputs": [],
   "source": [
    "# Display the CD account data.\n",
    "print('Here are the details of the CD account.')\n",
    "print(\"The balance is: $\", format(cd_data.get_balance(), ',.2f'))\n",
    "print(\"APR Interest Rate is:\", format(cd_data.get_interest(), ',.2f'),'%')\n",
    "print(f\"Length of CD is: {cd_data.get_months()} months.\")\n"
   ]
  }
 ],
 "metadata": {},
 "nbformat": 4,
 "nbformat_minor": 5
}
