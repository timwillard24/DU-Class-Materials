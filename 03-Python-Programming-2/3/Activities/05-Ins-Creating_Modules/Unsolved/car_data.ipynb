{
 "cells": [
  {
   "cell_type": "code",
   "execution_count": null,
   "id": "12f1275f",
   "metadata": {},
   "outputs": [],
   "source": [
    "# Import the Car class from the car_data.py file."
   ]
  },
  {
   "cell_type": "code",
   "execution_count": null,
   "id": "a307ca97",
   "metadata": {},
   "outputs": [],
   "source": [
    "# Create an instance of the Car class."
   ]
  },
  {
   "cell_type": "code",
   "execution_count": null,
   "id": "100d9ac5",
   "metadata": {},
   "outputs": [],
   "source": [
    "# Get the current make using the getter methods.\n",
    "print('Here are the details of the car.')\n",
    "print(f\"Make: {car.get_make()}\")\n",
    "print(f\"Model: {car.get_model()}\")\n",
    "print(f\"Body: {car.get_body()}\")\n",
    "print(f\"Engine Type: {car.get_engine()}\")\n",
    "print(f\"Year made: {car.get_year()}\")\n",
    "print(f\"Color: {car.get_color()}\")"
   ]
  },
  {
   "cell_type": "code",
   "execution_count": null,
   "id": "1afc0b76",
   "metadata": {},
   "outputs": [],
   "source": [
    "\n",
    "# Prompt the user to change three parameters for the car."
   ]
  },
  {
   "cell_type": "code",
   "execution_count": null,
   "id": "d34e3900",
   "metadata": {},
   "outputs": [],
   "source": [
    "\n",
    "# Use the setter methods to change the information"
   ]
  },
  {
   "cell_type": "code",
   "execution_count": null,
   "id": "e00cec37",
   "metadata": {},
   "outputs": [],
   "source": [
    "# Print the new details about the car.\n",
    "print('Here are the updated details of the car.')\n",
    "print(f\"Make: {car.get_make()}\")\n",
    "print(f\"Model: {car.get_model()}\")\n",
    "print(f\"Body: {car.get_body()}\")\n",
    "print(f\"Engine Type: {car.get_engine()}\")\n",
    "print(f\"Year made: {car.get_year()}\")\n",
    "print(f\"Color: {car.get_color()}\")\n"
   ]
  }
 ],
 "metadata": {},
 "nbformat": 4,
 "nbformat_minor": 5
}
