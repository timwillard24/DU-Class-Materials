{
 "cells": [
  {
   "cell_type": "code",
   "execution_count": null,
   "id": "279e281a",
   "metadata": {},
   "outputs": [],
   "source": [
    "\"\"\"Creating a Car class with methods and instances\"\"\""
   ]
  },
  {
   "cell_type": "code",
   "execution_count": null,
   "id": "ec4895f2",
   "metadata": {},
   "outputs": [],
   "source": [
    "# Define the Car class\n",
    "class Car:\n",
    "    \"\"\"Creating a Car class with methods\"\"\"\n",
    "    def __init__(self, make, model, body, engine, year, color):\n",
    "        self.make = make\n",
    "        self.model = model\n",
    "        self.body = body\n",
    "        self.engine = engine\n",
    "        self.year = year\n",
    "        self.color = color"
   ]
  },
  {
   "cell_type": "code",
   "execution_count": null,
   "id": "a7ed81c8",
   "metadata": {},
   "outputs": [],
   "source": [
    "    # Create a method to get the make of the car\n",
    "    def get_make(self):\n",
    "        \"\"\"Returns the make of the car\"\"\"\n",
    "        return self.make"
   ]
  },
  {
   "cell_type": "code",
   "execution_count": null,
   "id": "0cba0ed1",
   "metadata": {},
   "outputs": [],
   "source": [
    "    # Create a method to get the model of the car\n",
    "    def get_model(self):\n",
    "       \"\"\"Returns the model of the car\"\"\"\n",
    "       return self.model"
   ]
  },
  {
   "cell_type": "code",
   "execution_count": null,
   "id": "557156ad",
   "metadata": {},
   "outputs": [],
   "source": [
    "    # Create a method to get the body of the car\n",
    "    def get_body(self):\n",
    "        \"\"\"Returns the body of the car\"\"\"\n",
    "        return self.body"
   ]
  },
  {
   "cell_type": "code",
   "execution_count": null,
   "id": "3d073924",
   "metadata": {},
   "outputs": [],
   "source": [
    "    # Create a method to get the engine of the car\n",
    "    def get_engine(self):\n",
    "       \"\"\"Returns the engine of the car\"\"\"\n",
    "       return self.engine"
   ]
  },
  {
   "cell_type": "code",
   "execution_count": null,
   "id": "0886d5f8",
   "metadata": {},
   "outputs": [],
   "source": [
    "    # Create a method to get the year of the car\n",
    "    def get_year(self):\n",
    "        \"\"\"Returns the year of the car\"\"\"\n",
    "        return self.year"
   ]
  },
  {
   "cell_type": "code",
   "execution_count": null,
   "id": "b0b2fb78",
   "metadata": {},
   "outputs": [],
   "source": [
    "    # Create a method to get the color of the car\n",
    "    def get_color(self):\n",
    "       \"\"\"Returns the color of the car\"\"\"\n",
    "       return self.color"
   ]
  },
  {
   "cell_type": "code",
   "execution_count": null,
   "id": "75bb15ac",
   "metadata": {},
   "outputs": [],
   "source": [
    "    # Create a method to change the make of the car\n",
    "    def set_make(self, new_make):\n",
    "        \"\"\"Sets the make of the car\"\"\"\n",
    "        self.make = new_make"
   ]
  },
  {
   "cell_type": "code",
   "execution_count": null,
   "id": "6237183b",
   "metadata": {},
   "outputs": [],
   "source": [
    "    # Create a method to change the model of the car\n",
    "    def set_model(self, new_model):\n",
    "        \"\"\"Sets the make of the car\"\"\"\n",
    "        self.model = new_model"
   ]
  },
  {
   "cell_type": "code",
   "execution_count": null,
   "id": "94ea0e98",
   "metadata": {},
   "outputs": [],
   "source": [
    "    # Create a method to change the body of the car\n",
    "    def set_body(self, new_body):\n",
    "        \"\"\"Sets the make of the car\"\"\"\n",
    "        self.body = new_body"
   ]
  },
  {
   "cell_type": "code",
   "execution_count": null,
   "id": "29ec1051",
   "metadata": {},
   "outputs": [],
   "source": [
    "    # Create a method to change the engine of the car\n",
    "    def set_engine(self, new_engine):\n",
    "        \"\"\"Sets the make of the car\"\"\"\n",
    "        self.engine = new_engine"
   ]
  },
  {
   "cell_type": "code",
   "execution_count": null,
   "id": "12e7b5b0",
   "metadata": {},
   "outputs": [],
   "source": [
    "    # Create a method to change the make of the car\n",
    "    def set_year(self, new_year):\n",
    "        \"\"\"Sets the make of the car\"\"\"\n",
    "        self.year = new_year"
   ]
  },
  {
   "cell_type": "code",
   "execution_count": null,
   "id": "370ddd52",
   "metadata": {},
   "outputs": [],
   "source": [
    "    # Create a method to change the color of the car\n",
    "    def set_color(self, new_color):\n",
    "        \"\"\"Sets the make of the car\"\"\"\n",
    "        self.color = new_color\n"
   ]
  }
 ],
 "metadata": {},
 "nbformat": 4,
 "nbformat_minor": 5
}
