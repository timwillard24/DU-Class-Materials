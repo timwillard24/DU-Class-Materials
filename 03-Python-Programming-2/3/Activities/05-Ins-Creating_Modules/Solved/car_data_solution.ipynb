{
 "cells": [
  {
   "cell_type": "code",
   "execution_count": null,
   "id": "3bc41b30",
   "metadata": {},
   "outputs": [],
   "source": [
    "# Import the Car class from the car_data.py file.\n",
    "from Car import Car"
   ]
  },
  {
   "cell_type": "code",
   "execution_count": null,
   "id": "679e7dd3",
   "metadata": {},
   "outputs": [],
   "source": [
    "# Create an instance of the Car class.\n",
    "car = Car(\"Subaru\", \"CrossTrek Limited\", \"SUV\", \"2.5L, 4 cylinder\",\"2020\", \"Pearl Blue\")"
   ]
  },
  {
   "cell_type": "code",
   "execution_count": null,
   "id": "50aa0c34",
   "metadata": {},
   "outputs": [],
   "source": [
    "# Get the current make using the getter methods.\n",
    "print('Here are the details of the car.')\n",
    "print(f\"Make: {car.get_make()}\")\n",
    "print(f\"Model: {car.get_model()}\")\n",
    "print(f\"Body: {car.get_body()}\")\n",
    "print(f\"Engine Type: {car.get_engine()}\")\n",
    "print(f\"Year made: {car.get_year()}\")\n",
    "print(f\"Color: {car.get_color()}\")"
   ]
  },
  {
   "cell_type": "code",
   "execution_count": null,
   "id": "79f64afa",
   "metadata": {},
   "outputs": [],
   "source": [
    "# Prompt the user to change three parameters for the car.\n",
    "model = input(\"What Subaru model would you like? \")\n",
    "year = int(input(\"What model year are you looking for? \"))\n",
    "color = input(\"What color would you like? \")"
   ]
  },
  {
   "cell_type": "code",
   "execution_count": null,
   "id": "00b91812",
   "metadata": {},
   "outputs": [],
   "source": [
    "\n",
    "# Use the setter methods to change the information\n",
    "car.set_model(model)\n",
    "car.set_year(year)\n",
    "car.set_color(color)"
   ]
  },
  {
   "cell_type": "code",
   "execution_count": null,
   "id": "4b4db191",
   "metadata": {},
   "outputs": [],
   "source": [
    "# Print the new details about the car.\n",
    "print('Here are the updated details of the car.')\n",
    "print(f\"Make: {car.get_make()}\")\n",
    "print(f\"Model: {car.get_model()}\")\n",
    "print(f\"Body: {car.get_body()}\")\n",
    "print(f\"Engine Type: {car.get_engine()}\")\n",
    "print(f\"Year made: {car.get_year()}\")\n",
    "print(f\"Color: {car.get_color()}\")\n"
   ]
  }
 ],
 "metadata": {},
 "nbformat": 4,
 "nbformat_minor": 5
}
