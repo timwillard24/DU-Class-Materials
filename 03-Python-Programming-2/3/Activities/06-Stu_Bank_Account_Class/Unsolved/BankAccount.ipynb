{
 "cells": [
  {
   "cell_type": "code",
   "execution_count": null,
   "id": "79ae0647",
   "metadata": {},
   "outputs": [],
   "source": [
    "\"\"\"Create the BankAccount class with methods\"\"\""
   ]
  },
  {
   "cell_type": "code",
   "execution_count": null,
   "id": "035c1d88",
   "metadata": {},
   "outputs": [],
   "source": [
    "\n",
    "class BankAccount:\n",
    "    \"\"\"Creating a Bank Account class with methods\"\"\"\n",
    "    # The __init__ method accepts an argument for the account's balance.\n",
    "    # It is assigned to the balance attribute.\n",
    "    def __init__(self, balance):\n",
    "        self.balance = balance\n",
    "\n",
    "    # The deposit method makes a deposit into the account.\n",
    "    def deposit(self, amount):\n",
    "        \"\"\"Adds the amount to deposited to the balance.\"\"\"\n",
    "        self.balance += amount\n",
    "\n",
    "    # The withdraw method withdraws an amount from the account.\n",
    "    def withdraw(self, amount):\n",
    "        \"\"\"Checks that the amount to be withdrawn is greater than or equal to the balance\n",
    "        If it is then the amount is subtracted from the balance.\n",
    "        If not, the user is notified of insufficient funds.\"\"\"\n",
    "        if self.balance >= amount:\n",
    "            self.balance -= amount\n",
    "        else:\n",
    "            print('Error: Insufficient funds')\n",
    "\n",
    "    # The get_balance method returns the account balance.\n",
    "    def get_balance(self):\n",
    "        \"\"\"Gets the balance of the account.\"\"\"\n",
    "        return self.balance\n"
   ]
  }
 ],
 "metadata": {
  "language_info": {
   "name": "python"
  }
 },
 "nbformat": 4,
 "nbformat_minor": 5
}
