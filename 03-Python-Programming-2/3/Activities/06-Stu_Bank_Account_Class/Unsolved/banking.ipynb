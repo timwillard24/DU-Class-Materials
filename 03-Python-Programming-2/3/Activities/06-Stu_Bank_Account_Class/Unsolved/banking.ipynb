{
 "cells": [
  {
   "cell_type": "code",
   "execution_count": null,
   "id": "6b785870",
   "metadata": {},
   "outputs": [],
   "source": [
    "# Import the BankAccount class from the BankAccount file.\n",
    "# ADD YOUR CODE HERE"
   ]
  },
  {
   "cell_type": "code",
   "execution_count": null,
   "id": "da4af7bd",
   "metadata": {},
   "outputs": [],
   "source": [
    "# Prompt the user to set the starting balance.\n",
    "starting_balance = float(input('Enter your starting balance: '))"
   ]
  },
  {
   "cell_type": "code",
   "execution_count": null,
   "id": "8bb85eb8",
   "metadata": {},
   "outputs": [],
   "source": [
    "# Create an instance of the `BankAccount` class that sets the users starting balance.\n",
    "# ADD YOUR CODE HERE"
   ]
  },
  {
   "cell_type": "code",
   "execution_count": null,
   "id": "186ba6e0",
   "metadata": {},
   "outputs": [],
   "source": [
    "# Prompt the user to deposit their paycheck.\n",
    "pay = float(input('How much were you paid this week? '))\n",
    "print('I will deposit $', format(pay, ',.2f'),'into your account.')"
   ]
  },
  {
   "cell_type": "code",
   "execution_count": null,
   "id": "5c5a6c43",
   "metadata": {},
   "outputs": [],
   "source": [
    "# Pass the users pay to the deposit method using the instance of the BankAccount class.\n",
    "# ADD YOUR CODE HERE"
   ]
  },
  {
   "cell_type": "code",
   "execution_count": null,
   "id": "7e8d29d8",
   "metadata": {},
   "outputs": [],
   "source": [
    "# Display the balance and format the amount to two decimal places and thousands.\n",
    "# ADD YOUR CODE HERE"
   ]
  },
  {
   "cell_type": "code",
   "execution_count": null,
   "id": "d61c82d5",
   "metadata": {},
   "outputs": [],
   "source": [
    "# Prompt the user to withdraw and amount.\n",
    "cash = float(input('How much would you like to withdraw? '))\n",
    "print('I will withdraw $', format(cash, ',.2f'),'from your account.')"
   ]
  },
  {
   "cell_type": "code",
   "execution_count": null,
   "id": "af1ff9dd",
   "metadata": {},
   "outputs": [],
   "source": [
    "# Pass the users amount they want to the withdraw method using the instance of the BankAccount class.\n",
    "# ADD YOUR CODE HERE"
   ]
  },
  {
   "cell_type": "code",
   "execution_count": null,
   "id": "6d37b1d3",
   "metadata": {},
   "outputs": [],
   "source": [
    "# Display the balance and format the amount to two decimal places and thousands.\n",
    "# ADD YOUR CODE HERE\n"
   ]
  }
 ],
 "metadata": {},
 "nbformat": 4,
 "nbformat_minor": 5
}
