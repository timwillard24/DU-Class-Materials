{
 "cells": [
  {
   "cell_type": "code",
   "execution_count": null,
   "id": "8df3c825",
   "metadata": {},
   "outputs": [],
   "source": [
    "\"\"\"Creating a Car class with methods and instances\"\"\""
   ]
  },
  {
   "cell_type": "code",
   "execution_count": null,
   "id": "fd29eb16",
   "metadata": {},
   "outputs": [],
   "source": [
    "\"\"\"Creating a Car class with methods and instances\"\"\"\n",
    "\n",
    "# Define the Car class\n",
    "class Car:\n",
    "    \"\"\"Creating a Car class with methods\"\"\"\n",
    "    def __init__(self, make, model): # add the model parameter\n",
    "        self.make = make\n",
    "        self.model = model\n",
    "\n",
    "        # Create a method to get the make of the car\n",
    "    def get_make(self):\n",
    "        \"\"\"Gets the make of the car\"\"\"\n",
    "        return self.make\n",
    "\n",
    "    # Create a method to change the make of the car\n",
    "    def set_make(self, new_make):\n",
    "        \"\"\"Sets the make of the car\"\"\"\n",
    "        self.make = new_make\n",
    "\n",
    "    # Create a method to set the model of the car\n",
    "    def set_model(self, new_model):\n",
    "        \"\"\"Sets the make of the car\"\"\"\n",
    "        self.make = new_model\n",
    "\n",
    "    # Create the get_model method\n",
    "    def get_model(self, model):\n",
    "        \"\"\"Gets the model of the car\"\"\"\n",
    "        return self.model\n"
   ]
  },
  {
   "cell_type": "code",
   "execution_count": null,
   "id": "ae2ed0b8",
   "metadata": {},
   "outputs": [],
   "source": [
    "# Create an instance of the Car class.\n",
    "my_car = Car(\"Toyota\")"
   ]
  },
  {
   "cell_type": "code",
   "execution_count": null,
   "id": "6e1e1bb6",
   "metadata": {},
   "outputs": [],
   "source": [
    "# Get the initial  make of the car.\n",
    "initial_make = my_car.get_make()\n",
    "print(f\"Initial Make: {initial_make}\")"
   ]
  },
  {
   "cell_type": "code",
   "execution_count": null,
   "id": "1dd7aeb3",
   "metadata": {},
   "outputs": [],
   "source": [
    "# Set a new make\n",
    "my_car.set_make(\"Honda\")"
   ]
  },
  {
   "cell_type": "code",
   "execution_count": null,
   "id": "c6fe714a",
   "metadata": {},
   "outputs": [],
   "source": [
    "# Get the updated make\n",
    "updated_make = my_car.get_make()\n",
    "print(f\"Updated Make: {updated_make}\")\n"
   ]
  }
 ],
 "metadata": {
  "language_info": {
   "name": "python"
  }
 },
 "nbformat": 4,
 "nbformat_minor": 5
}
