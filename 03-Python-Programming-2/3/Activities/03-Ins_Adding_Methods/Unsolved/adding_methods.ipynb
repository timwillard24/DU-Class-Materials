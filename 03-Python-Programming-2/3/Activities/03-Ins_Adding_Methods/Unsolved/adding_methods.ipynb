{
 "cells": [
  {
   "cell_type": "code",
   "execution_count": null,
   "id": "7597069d",
   "metadata": {},
   "outputs": [],
   "source": [
    "\"\"\"Creating a Car class with methods and instances\"\"\""
   ]
  },
  {
   "cell_type": "code",
   "execution_count": null,
   "id": "014a76a0",
   "metadata": {},
   "outputs": [],
   "source": [
    "# Define the Car class\n",
    "class Car:\n",
    "    \"\"\"Creating a Car class with methods\"\"\"\n",
    "    def __init__(self, make):\n",
    "        self.make = make\n",
    "        # self.model = model"
   ]
  },
  {
   "cell_type": "code",
   "execution_count": null,
   "id": "6b05842d",
   "metadata": {},
   "outputs": [],
   "source": [
    "        # Create a method to get the make of the car\n",
    "    def get_make(self):\n",
    "        \"\"\"Gets the make of the car\"\"\"\n",
    "        return self.make"
   ]
  },
  {
   "cell_type": "code",
   "execution_count": null,
   "id": "da903e05",
   "metadata": {},
   "outputs": [],
   "source": [
    "    # Create a method to change the make of the car\n",
    "    def set_make(self, new_make):\n",
    "        \"\"\"Sets the make of the car\"\"\"\n",
    "        self.make = new_make"
   ]
  },
  {
   "cell_type": "code",
   "execution_count": null,
   "id": "290b29c2",
   "metadata": {},
   "outputs": [],
   "source": [
    "    # Create a method to set the model of the car"
   ]
  },
  {
   "cell_type": "code",
   "execution_count": null,
   "id": "a84c1e0e",
   "metadata": {},
   "outputs": [],
   "source": [
    "\n",
    "    # Create the get_model method"
   ]
  },
  {
   "cell_type": "code",
   "execution_count": null,
   "id": "9ee787b8",
   "metadata": {},
   "outputs": [],
   "source": []
  },
  {
   "cell_type": "code",
   "execution_count": null,
   "id": "431eaaf4",
   "metadata": {},
   "outputs": [],
   "source": [
    "# Create an instance of the Car class.\n",
    "my_car = Car(\"Toyota\")"
   ]
  },
  {
   "cell_type": "code",
   "execution_count": null,
   "id": "3b1410c3",
   "metadata": {},
   "outputs": [],
   "source": [
    "# Get the initial  make of the car.\n",
    "initial_make = my_car.get_make()\n",
    "print(f\"Initial Make: {initial_make}\")"
   ]
  },
  {
   "cell_type": "code",
   "execution_count": null,
   "id": "5d7df402",
   "metadata": {},
   "outputs": [],
   "source": [
    "# Set a new make\n",
    "my_car.set_make(\"Honda\")"
   ]
  },
  {
   "cell_type": "code",
   "execution_count": null,
   "id": "4eb3b3bf",
   "metadata": {},
   "outputs": [],
   "source": [
    "# Get the updated make\n",
    "updated_make = my_car.get_make()\n",
    "print(f\"Updated Make: {updated_make}\")\n"
   ]
  }
 ],
 "metadata": {},
 "nbformat": 4,
 "nbformat_minor": 5
}
