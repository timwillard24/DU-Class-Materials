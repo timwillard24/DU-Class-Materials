{
 "cells": [
  {
   "cell_type": "code",
   "execution_count": null,
   "id": "304f0c96",
   "metadata": {},
   "outputs": [],
   "source": [
    "\"\"\"Creating a Car class with parameters and instances\"\"\""
   ]
  },
  {
   "cell_type": "code",
   "execution_count": null,
   "id": "0d539694",
   "metadata": {},
   "outputs": [],
   "source": [
    "# Define the Car class\n",
    "class Car:\n",
    "    \"\"\"Creating a Car class with parameters\"\"\""
   ]
  },
  {
   "cell_type": "code",
   "execution_count": null,
   "id": "d68506e8",
   "metadata": {},
   "outputs": [],
   "source": []
  },
  {
   "cell_type": "code",
   "execution_count": null,
   "id": "6eb97708",
   "metadata": {},
   "outputs": [],
   "source": [
    "# Create an instance of the Car class using the user's input"
   ]
  },
  {
   "cell_type": "code",
   "execution_count": null,
   "id": "611b5c3c",
   "metadata": {},
   "outputs": [],
   "source": [
    "# Print the details of the car\n"
   ]
  }
 ],
 "metadata": {},
 "nbformat": 4,
 "nbformat_minor": 5
}
