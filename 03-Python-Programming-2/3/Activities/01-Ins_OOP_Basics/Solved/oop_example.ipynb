{
 "cells": [
  {
   "cell_type": "code",
   "execution_count": null,
   "id": "7b56ebf8",
   "metadata": {},
   "outputs": [],
   "source": [
    "#define a car class"
   ]
  },
  {
   "cell_type": "code",
   "execution_count": null,
   "id": "06ad795e",
   "metadata": {},
   "outputs": [],
   "source": [
    "class Car:\n",
    "    \"\"\"Creating the car class\n",
    "    \"\"\"\n",
    "    def __init__(self,make, model):\n",
    "        self.make=make\n",
    "        self.model=model\n",
    "   "
   ]
  },
  {
   "cell_type": "code",
   "execution_count": null,
   "id": "b9a29a9b",
   "metadata": {},
   "outputs": [],
   "source": [
    "     \n",
    "my_car=Car(\"GMC\",\"Sierra\")"
   ]
  },
  {
   "cell_type": "code",
   "execution_count": null,
   "id": "47bb5e07",
   "metadata": {},
   "outputs": [],
   "source": [
    "print(f\"Make:{my_car.make}\")"
   ]
  }
 ],
 "metadata": {
  "language_info": {
   "name": "python"
  }
 },
 "nbformat": 4,
 "nbformat_minor": 5
}
