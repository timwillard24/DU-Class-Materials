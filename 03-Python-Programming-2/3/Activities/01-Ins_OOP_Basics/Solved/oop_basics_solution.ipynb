{
 "cells": [
  {
   "cell_type": "code",
   "execution_count": null,
   "id": "30eb75e9",
   "metadata": {},
   "outputs": [],
   "source": [
    "\"\"\"Creating a Car class with parameters and instances\"\"\""
   ]
  },
  {
   "cell_type": "code",
   "execution_count": null,
   "id": "453c2ab7",
   "metadata": {},
   "outputs": [],
   "source": [
    "# Define the Car class\n",
    "class Car:\n",
    "    \"\"\"Creating a Car class with parameters\"\"\"\n",
    "    def __init__(self, make, model):\n",
    "        self.make = make\n",
    "        self.model = model"
   ]
  },
  {
   "cell_type": "code",
   "execution_count": null,
   "id": "cc0ffdc2",
   "metadata": {},
   "outputs": [],
   "source": [
    "\n",
    "# Create an instance of the Car class using the user's input\n",
    "my_car = Car(\"Toyota\", \"Camry\")"
   ]
  },
  {
   "cell_type": "code",
   "execution_count": null,
   "id": "8f00d9e4",
   "metadata": {},
   "outputs": [],
   "source": [
    "# Print the details of the car\n",
    "print(f\"Make: {my_car.make}\")\n",
    "print(f\"Model: {my_car.model}\")\n"
   ]
  }
 ],
 "metadata": {},
 "nbformat": 4,
 "nbformat_minor": 5
}
