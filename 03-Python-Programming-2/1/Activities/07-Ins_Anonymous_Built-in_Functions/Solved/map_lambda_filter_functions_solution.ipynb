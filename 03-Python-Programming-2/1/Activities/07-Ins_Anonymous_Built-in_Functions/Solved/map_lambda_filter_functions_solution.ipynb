{
 "cells": [
  {
   "cell_type": "code",
   "execution_count": 1,
   "id": "3af6c107",
   "metadata": {},
   "outputs": [],
   "source": [
    "# Anonymous Functions"
   ]
  },
  {
   "cell_type": "code",
   "execution_count": 2,
   "id": "eb4508d7",
   "metadata": {},
   "outputs": [
    {
     "name": "stdout",
     "output_type": "stream",
     "text": [
      "The result of using a Python function: [3.429, 93.429, 0.429, 137.286, 3.0]\n"
     ]
    }
   ],
   "source": [
    "# A function that divides by 7 and rounds to the nearest hundredth\n",
    "def divide_by_seven(num):\n",
    "    \"\"\"A function that divides by 7 and rounds to the nearest hundredth\"\"\"\n",
    "    return round(num / 7,3)\n",
    "print(f\"The result of using a Python function: {[divide_by_seven(number) for number in [24,654,3,961,21]]}\")"
   ]
  },
  {
   "cell_type": "code",
   "execution_count": 3,
   "id": "2fe78925",
   "metadata": {},
   "outputs": [],
   "source": [
    "\n",
    "# Create a list comprehension that divides by 7 and rounds to the nearest hundredth\n",
    "list_comprehension = [divide_by_seven(number) for number in [24,654,3,961,21]]"
   ]
  },
  {
   "cell_type": "code",
   "execution_count": 4,
   "id": "ca63bd40",
   "metadata": {},
   "outputs": [
    {
     "name": "stdout",
     "output_type": "stream",
     "text": [
      "An example of a list comprehension that uses a function: [3.429, 93.429, 0.429, 137.286, 3.0]\n"
     ]
    }
   ],
   "source": [
    "# Print the results\n",
    "print(f\"An example of a list comprehension that uses a function: {list_comprehension}\")"
   ]
  },
  {
   "cell_type": "code",
   "execution_count": 5,
   "id": "bf4962fd",
   "metadata": {},
   "outputs": [],
   "source": [
    "# Instead of using a list comprehension we can use the map function to do the same thing.\n",
    "map_function = map(divide_by_seven,(24,654,3,961,21))"
   ]
  },
  {
   "cell_type": "code",
   "execution_count": 6,
   "id": "6c5abf60",
   "metadata": {},
   "outputs": [
    {
     "name": "stdout",
     "output_type": "stream",
     "text": [
      "An example of a map function: [3.429, 93.429, 0.429, 137.286, 3.0]\n"
     ]
    }
   ],
   "source": [
    "# Print the results\n",
    "print(f\"An example of a map function: {list(map_function)}\")"
   ]
  },
  {
   "cell_type": "code",
   "execution_count": 7,
   "id": "4ed13936",
   "metadata": {},
   "outputs": [
    {
     "name": "stdout",
     "output_type": "stream",
     "text": [
      "An example of a using the lambda function: [3.429, 93.429, 0.429, 137.286, 3.0]\n"
     ]
    }
   ],
   "source": [
    "# 4. Demonstrate how to implement the previous example as a lambda function within the map function\n",
    "map_function = map(lambda x: round(x/7,3),(24,654,3,961,21))\n",
    "print(f\"An example of a using the lambda function: {list(map_function)}\")"
   ]
  },
  {
   "cell_type": "code",
   "execution_count": 8,
   "id": "d65ce1c7",
   "metadata": {},
   "outputs": [
    {
     "name": "stdout",
     "output_type": "stream",
     "text": [
      "[12, 9, 18, 36, 42, 63]\n"
     ]
    }
   ],
   "source": [
    "# 5. Use the filter and lambda functions to get only the numbers divided by 3.\n",
    "numbers = [12, 7, 9, 18, 25, 36, 42, 55, 63]\n",
    "divisible_by_3 = list(filter(lambda x: x % 3 == 0, numbers))\n",
    "print(divisible_by_3)\n"
   ]
  }
 ],
 "metadata": {
  "kernelspec": {
   "display_name": "Python 3",
   "language": "python",
   "name": "python3"
  },
  "language_info": {
   "codemirror_mode": {
    "name": "ipython",
    "version": 3
   },
   "file_extension": ".py",
   "mimetype": "text/x-python",
   "name": "python",
   "nbconvert_exporter": "python",
   "pygments_lexer": "ipython3",
   "version": "3.12.2"
  }
 },
 "nbformat": 4,
 "nbformat_minor": 5
}
