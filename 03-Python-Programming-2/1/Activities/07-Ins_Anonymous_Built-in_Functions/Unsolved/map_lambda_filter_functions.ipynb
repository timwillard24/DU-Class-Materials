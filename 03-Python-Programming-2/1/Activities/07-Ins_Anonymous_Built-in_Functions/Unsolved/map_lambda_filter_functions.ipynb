{
 "cells": [
  {
   "cell_type": "code",
   "execution_count": null,
   "id": "323bb977",
   "metadata": {},
   "outputs": [],
   "source": [
    "# Anonymous Functions"
   ]
  },
  {
   "cell_type": "code",
   "execution_count": null,
   "id": "7c46173a",
   "metadata": {},
   "outputs": [],
   "source": [
    "# 1. A function that divides by 7 and rounds to the nearest hundredth"
   ]
  },
  {
   "cell_type": "code",
   "execution_count": null,
   "id": "a74be07b",
   "metadata": {},
   "outputs": [],
   "source": [
    "# 2. Create a list comprehension that divides by 7 and rounds to the nearest hundredth"
   ]
  },
  {
   "cell_type": "code",
   "execution_count": null,
   "id": "9b60db2f",
   "metadata": {},
   "outputs": [],
   "source": [
    "# 3. Instead of using a list comprehension we can use the map function to do the same thing."
   ]
  },
  {
   "cell_type": "code",
   "execution_count": null,
   "id": "6cd47d7d",
   "metadata": {},
   "outputs": [],
   "source": [
    "# 4. Demonstrate how to implement the previous example as a lambda function within the map function"
   ]
  },
  {
   "cell_type": "code",
   "execution_count": null,
   "id": "7f57b27a",
   "metadata": {},
   "outputs": [],
   "source": [
    "# 5. Use the filter and lambda functions to get only the numbers divided by 3.\n"
   ]
  }
 ],
 "metadata": {},
 "nbformat": 4,
 "nbformat_minor": 5
}
