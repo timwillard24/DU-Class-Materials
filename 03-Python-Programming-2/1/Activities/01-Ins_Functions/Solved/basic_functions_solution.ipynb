{
 "cells": [
  {
   "cell_type": "code",
   "execution_count": null,
   "id": "fb2bd899",
   "metadata": {},
   "outputs": [],
   "source": [
    "# Define the hello function.\n",
    "def hello():\n",
    "    print(\"Hi! This is the hello function.\")"
   ]
  },
  {
   "cell_type": "code",
   "execution_count": null,
   "id": "be411406",
   "metadata": {},
   "outputs": [],
   "source": [
    "# Call the hello function\n",
    "hello()"
   ]
  },
  {
   "cell_type": "code",
   "execution_count": null,
   "id": "ed560c72",
   "metadata": {},
   "outputs": [],
   "source": [
    "# Define the scream function.\n",
    "def scream():\n",
    "    print(\"AAAAH!\")\n",
    "scream()\n",
    "scream()\n",
    "scream()\n",
    "print(\"Okay, I feel much better.\")\n"
   ]
  }
 ],
 "metadata": {},
 "nbformat": 4,
 "nbformat_minor": 5
}
