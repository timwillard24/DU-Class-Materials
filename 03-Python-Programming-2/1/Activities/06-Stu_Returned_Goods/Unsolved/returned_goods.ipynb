{
 "cells": [
  {
   "cell_type": "code",
   "execution_count": null,
   "id": "cdd36b8d",
   "metadata": {},
   "outputs": [],
   "source": [
    "\"\"\"Returned Goods.\"\"\""
   ]
  },
  {
   "cell_type": "code",
   "execution_count": null,
   "id": "126b12d3",
   "metadata": {},
   "outputs": [],
   "source": [
    "# Define a new function called process_claims\n",
    "def process_claims():\n",
    "    \"\"\"\n",
    "    Calculate the total insurance payout based on a list of claims.\n",
    "    Args:\n",
    "        claims (list): A list of claim amounts.\n",
    "    Returns:\n",
    "        float: The total insurance payout, which is 30% of the sum of all claims.\n",
    "    \"\"\"\n",
    "    # Create a variable called `total_claims`, that is the sum of all claims"
   ]
  },
  {
   "cell_type": "code",
   "execution_count": null,
   "id": "243962f3",
   "metadata": {},
   "outputs": [],
   "source": [
    "    # Calculate a total payout, which is 30% of total_claims:"
   ]
  },
  {
   "cell_type": "code",
   "execution_count": null,
   "id": "f0c32274",
   "metadata": {},
   "outputs": [],
   "source": [
    "    # Return only the total_payout amount"
   ]
  },
  {
   "cell_type": "code",
   "execution_count": null,
   "id": "a94a0f06",
   "metadata": {},
   "outputs": [],
   "source": [
    "\n",
    "if __name__ == \"__main__\":\n",
    "    # Add the weekly claims\n",
    "    weekly_claims = [5000, 1000, 8000, 10000, 3000, 3500]\n",
    "    # Create a variable that passes the weekly claims to the function."
   ]
  },
  {
   "cell_type": "code",
   "execution_count": null,
   "id": "37e350ad",
   "metadata": {},
   "outputs": [],
   "source": [
    "    # Print the total insurance payout to 2 decimal places.\n"
   ]
  }
 ],
 "metadata": {},
 "nbformat": 4,
 "nbformat_minor": 5
}
