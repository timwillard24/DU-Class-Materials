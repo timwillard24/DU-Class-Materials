{
 "cells": [
  {
   "cell_type": "code",
   "execution_count": 1,
   "id": "1c1f2880",
   "metadata": {},
   "outputs": [
    {
     "data": {
      "text/plain": [
       "'Returned Goods.'"
      ]
     },
     "execution_count": 1,
     "metadata": {},
     "output_type": "execute_result"
    }
   ],
   "source": [
    "\"\"\"Returned Goods.\"\"\""
   ]
  },
  {
   "cell_type": "code",
   "execution_count": 2,
   "id": "3d407c86",
   "metadata": {},
   "outputs": [],
   "source": [
    "# Define a new function called process_claims\n",
    "def process_claims(claims):\n",
    "    \"\"\"\n",
    "    Calculate the total insurance payout based on a list of claims.\n",
    "    Args:\n",
    "        claims (list): A list of claim amounts.\n",
    "    Returns:\n",
    "        float: The total insurance payout, which is 30% of the sum of all claims.\n",
    "    \"\"\"\n",
    "    # Create a variable called `total_claims`, that is the sum of all claims\n",
    "    total_claims = sum(claims)\n",
    "    # Calculate a total payout, which is 30% of total_claims:\n",
    "    total_payout = total_claims * 0.30\n",
    "    # Return only the total_payout amount\n",
    "    return total_payout"
   ]
  },
  {
   "cell_type": "code",
   "execution_count": 3,
   "id": "39e78be4",
   "metadata": {},
   "outputs": [
    {
     "name": "stdout",
     "output_type": "stream",
     "text": [
      "The total insurance payout is: $ 9,150.00.\n"
     ]
    }
   ],
   "source": [
    "\n",
    "# Add the weekly claims\n",
    "weekly_claims = [5000, 1000, 8000, 10000, 3000, 3500]\n",
    "# Create a variable that passes the weekly claims to the function.\n",
    "total_insurance_payout = process_claims(weekly_claims)\n",
    "# Print the total insurance payout to 2 decimal places.\n",
    "print(f\"The total insurance payout is: ${total_insurance_payout: ,.2f}.\")\n"
   ]
  }
 ],
 "metadata": {
  "kernelspec": {
   "display_name": "Python 3",
   "language": "python",
   "name": "python3"
  },
  "language_info": {
   "codemirror_mode": {
    "name": "ipython",
    "version": 3
   },
   "file_extension": ".py",
   "mimetype": "text/x-python",
   "name": "python",
   "nbconvert_exporter": "python",
   "pygments_lexer": "ipython3",
   "version": "3.12.2"
  }
 },
 "nbformat": 4,
 "nbformat_minor": 5
}
