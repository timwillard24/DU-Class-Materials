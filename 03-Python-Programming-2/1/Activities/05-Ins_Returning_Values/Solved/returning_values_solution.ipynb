{
 "cells": [
  {
   "cell_type": "code",
   "execution_count": null,
   "id": "82de0bb6",
   "metadata": {},
   "outputs": [],
   "source": [
    "\"\"\" Returning Values Demonstration\"\"\""
   ]
  },
  {
   "cell_type": "code",
   "execution_count": 1,
   "id": "ff5a1c1f",
   "metadata": {},
   "outputs": [],
   "source": [
    "def average_numbers(numbers):\n",
    "    \"\"\" Calculates the average of an array of numbers\"\"\"\n",
    "    average = sum(numbers) / len(numbers)\n",
    "    print(\"The average is: \", average)"
   ]
  },
  {
   "cell_type": "code",
   "execution_count": 2,
   "id": "340744c5",
   "metadata": {},
   "outputs": [
    {
     "name": "stdout",
     "output_type": "stream",
     "text": [
      "The average is:  2.0\n"
     ]
    }
   ],
   "source": [
    "\n",
    "average_numbers([1, 2, 3])"
   ]
  },
  {
   "cell_type": "code",
   "execution_count": 3,
   "id": "f9b22df6",
   "metadata": {},
   "outputs": [],
   "source": [
    "\n",
    "# We can return values from inside a function and use those in other parts of the code.\n",
    "def average_numbers(numbers):\n",
    "    \"\"\" Calculates the average of an array of numbers\"\"\"\n",
    "    average = sum(numbers) / len(numbers)\n",
    "    return average"
   ]
  },
  {
   "cell_type": "code",
   "execution_count": 4,
   "id": "7bd2a7d0",
   "metadata": {},
   "outputs": [
    {
     "name": "stdout",
     "output_type": "stream",
     "text": [
      "The average of the first list is 2.0\n",
      "The average of the second list is 5.0\n"
     ]
    }
   ],
   "source": [
    "\n",
    "first_average = average_numbers([1, 2, 3])\n",
    "second_average = average_numbers([4, 5, 6])\n",
    "print(f'The average of the first list is {first_average}')\n",
    "print(f'The average of the second list is {second_average}')\n"
   ]
  }
 ],
 "metadata": {
  "kernelspec": {
   "display_name": "Python 3",
   "language": "python",
   "name": "python3"
  },
  "language_info": {
   "codemirror_mode": {
    "name": "ipython",
    "version": 3
   },
   "file_extension": ".py",
   "mimetype": "text/x-python",
   "name": "python",
   "nbconvert_exporter": "python",
   "pygments_lexer": "ipython3",
   "version": "3.12.2"
  }
 },
 "nbformat": 4,
 "nbformat_minor": 5
}
