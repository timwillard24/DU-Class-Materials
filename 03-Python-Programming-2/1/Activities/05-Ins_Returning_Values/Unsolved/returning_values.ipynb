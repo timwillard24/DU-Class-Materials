{
 "cells": [
  {
   "cell_type": "code",
   "execution_count": null,
   "id": "06e9798d",
   "metadata": {},
   "outputs": [],
   "source": [
    "\"\"\" Returning Values Demonstration\"\"\""
   ]
  },
  {
   "cell_type": "code",
   "execution_count": null,
   "id": "40d08844",
   "metadata": {},
   "outputs": [],
   "source": [
    "def average_numbers(numbers):\n",
    "    \"\"\" Calculates the average of an array of numbers\"\"\"\n",
    "    average = sum(numbers) / len(numbers)\n",
    "    print(\"The average is: \", average)"
   ]
  },
  {
   "cell_type": "code",
   "execution_count": null,
   "id": "63f52192",
   "metadata": {},
   "outputs": [],
   "source": [
    "if __name__ == \"__main__\":\n",
    "    average_numbers([1, 2, 3])"
   ]
  },
  {
   "cell_type": "code",
   "execution_count": null,
   "id": "c6ce3f32",
   "metadata": {},
   "outputs": [],
   "source": [
    "\n",
    "# We can return values from inside a function and use those in other parts of the code.\n",
    "# def average_numbers(numbers):\n",
    "#     \"\"\" Calculates the average of an array of numbers\"\"\"\n",
    "#     average = sum(numbers) / len(numbers)\n",
    "#     return average"
   ]
  },
  {
   "cell_type": "code",
   "execution_count": null,
   "id": "272d244d",
   "metadata": {},
   "outputs": [],
   "source": [
    "# if __name__ == \"__main__\":\n",
    "#     first_average = average_numbers([1, 2, 3])\n",
    "#     second_average = average_numbers([4, 5, 6])\n",
    "#     print(f'The average of the first list is {first_average}')\n",
    "#     print(f'The average of the second list is {second_average}')\n"
   ]
  }
 ],
 "metadata": {},
 "nbformat": 4,
 "nbformat_minor": 5
}
