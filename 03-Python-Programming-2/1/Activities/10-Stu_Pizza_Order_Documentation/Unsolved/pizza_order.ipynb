{
 "cells": [
  {
   "cell_type": "code",
   "execution_count": null,
   "id": "642a1663",
   "metadata": {},
   "outputs": [],
   "source": [
    "\"\"\"Pizza Order\"\"\"\n",
    "\n",
    "def create_pizza_order():\n",
    "    toppings = ['pepperoni', 'mushrooms', 'onions', 'sausage', 'bell peppers']\n",
    "\n",
    "    print(\"Welcome to the Sal's Famous Pizza!\")\n",
    "    print(\"Please choose three toppings for your pizza from the following options:\")\n",
    "\n",
    "    for i, topping in enumerate(toppings, start=1):\n",
    "        print(f\"{i}. {topping}\")\n",
    "\n",
    "    selected_toppings = []\n",
    "    for _ in range(3):\n",
    "        topping_number = int(input(\"Enter the number of your chosen topping: \"))\n",
    "        while topping_number < 1 or topping_number > 5:\n",
    "            print(\"Invalid topping number. Please try again.\")\n",
    "            topping_number = int(input(\"Enter the number of your chosen topping: \"))\n",
    "\n",
    "        selected_toppings.append(toppings[topping_number - 1])\n",
    "\n",
    "    print(\"Here is your order:\")\n",
    "    print(\"Your pizza comes with:\", \", \".join(selected_toppings))\n"
   ]
  },
  {
   "cell_type": "code",
   "execution_count": null,
   "id": "0e985fed",
   "metadata": {},
   "outputs": [],
   "source": [
    "\n",
    "create_pizza_order()\n"
   ]
  }
 ],
 "metadata": {
  "language_info": {
   "name": "python"
  }
 },
 "nbformat": 4,
 "nbformat_minor": 5
}
