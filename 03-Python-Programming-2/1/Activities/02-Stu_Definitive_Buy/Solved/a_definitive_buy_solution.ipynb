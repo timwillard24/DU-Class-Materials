{
 "cells": [
  {
   "cell_type": "code",
   "execution_count": null,
   "id": "89b74cd9",
   "metadata": {},
   "outputs": [],
   "source": [
    "\"\"\"A Definitive Buy.\"\"\""
   ]
  },
  {
   "cell_type": "code",
   "execution_count": null,
   "id": "404a1509",
   "metadata": {},
   "outputs": [],
   "source": [
    "\n",
    "def process_payment():\n",
    "    print(\"The total cost of this transaction will be 75 cents.\")\n",
    "    print(\"Ka-ching! Payment has been processed.\")"
   ]
  },
  {
   "cell_type": "code",
   "execution_count": null,
   "id": "76e011d5",
   "metadata": {},
   "outputs": [],
   "source": [
    "if __name__ == \"__main__\":\n",
    "    process_payment()\n"
   ]
  }
 ],
 "metadata": {},
 "nbformat": 4,
 "nbformat_minor": 5
}
