{
 "cells": [
  {
   "cell_type": "code",
   "execution_count": null,
   "id": "f9268f51",
   "metadata": {},
   "outputs": [],
   "source": [
    "\"\"\"A Definitive Buy.\"\"\""
   ]
  },
  {
   "cell_type": "code",
   "execution_count": null,
   "id": "91116074",
   "metadata": {},
   "outputs": [],
   "source": [
    "\n",
    "# Create a function that prints two messages.\n",
    "# The first message should state the cost of the transaction.\n",
    "# The second message should state that the payment has been processed."
   ]
  },
  {
   "cell_type": "code",
   "execution_count": null,
   "id": "6255bfb7",
   "metadata": {},
   "outputs": [],
   "source": []
  },
  {
   "cell_type": "code",
   "execution_count": null,
   "id": "421b596c",
   "metadata": {},
   "outputs": [],
   "source": [
    "\n",
    "if __name__ == \"__main__\":\n",
    "    # Call the function to run the code in the function.\n",
    "    process_payment()\n"
   ]
  }
 ],
 "metadata": {},
 "nbformat": 4,
 "nbformat_minor": 5
}
