{
 "cells": [
  {
   "cell_type": "code",
   "execution_count": null,
   "id": "ec3b7d5c",
   "metadata": {},
   "outputs": [],
   "source": [
    "\"\"\"Passing Arguments.\"\"\""
   ]
  },
  {
   "cell_type": "code",
   "execution_count": null,
   "id": "910322f0",
   "metadata": {},
   "outputs": [],
   "source": [
    "# Define a function that will add two numbers.\n",
    "def add():\n",
    "    \"\"\"This function takes two numbers and adds them and then returns the total.\"\"\"\n",
    "    first_number = 1 # This is a local scope of the function.\n",
    "    second_number = 2 # This is a local scope of the function.\n",
    "    total = first_number + second_number\n",
    "    print(f\"Your total is: {total}\")"
   ]
  },
  {
   "cell_type": "code",
   "execution_count": null,
   "id": "cfe2fec7",
   "metadata": {},
   "outputs": [],
   "source": [
    "\n",
    "if __name__ == \"__main__\":\n",
    "    add()\n",
    "    print(first_number)"
   ]
  },
  {
   "cell_type": "code",
   "execution_count": null,
   "id": "a60aeb65",
   "metadata": {},
   "outputs": [],
   "source": [
    "\n",
    "# Global variables for first_number and second_number.\n",
    "first_number = 2\n",
    "second_number = 3"
   ]
  },
  {
   "cell_type": "code",
   "execution_count": null,
   "id": "b54f1bfe",
   "metadata": {},
   "outputs": [],
   "source": [
    "# Define a function that will add two numbers.\n",
    "def addition():\n",
    "    \"\"\"This function takes two numbers and adds them and then returns the total.\"\"\"\n",
    "    first_number = 1 # This is a local variable of the function.\n",
    "    second_number = 2 # This is a local variable of the function.\n",
    "    total = first_number + second_number\n",
    "    print(f\"Your total is: {total}\")"
   ]
  },
  {
   "cell_type": "code",
   "execution_count": null,
   "id": "8d20257f",
   "metadata": {},
   "outputs": [],
   "source": [
    "if __name__ == \"__main__\":\n",
    "    addition()\n",
    "    print(f\"The global variables for the 'first_number' and 'second_number` are {first_number} and {second_number}\")\n"
   ]
  }
 ],
 "metadata": {},
 "nbformat": 4,
 "nbformat_minor": 5
}
