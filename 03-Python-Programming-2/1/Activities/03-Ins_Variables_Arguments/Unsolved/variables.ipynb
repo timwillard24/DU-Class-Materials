{
 "cells": [
  {
   "cell_type": "code",
   "execution_count": null,
   "id": "7a0e749c",
   "metadata": {},
   "outputs": [],
   "source": [
    "\"\"\"Passing Arguments.\"\"\""
   ]
  },
  {
   "cell_type": "code",
   "execution_count": null,
   "id": "ed4c63dd",
   "metadata": {},
   "outputs": [],
   "source": [
    "# Define a function that will add two numbers.\n",
    "def add():\n",
    "    \"\"\"This function takes two numbers and adds them and then returns the total.\"\"\"\n",
    "    first_number = 1 # This is a local scope of the function.\n",
    "    second_number = 2 # This is a local scope of the function.\n",
    "    total = first_number + second_number\n",
    "    print(f\"Your total is: {total}\")"
   ]
  },
  {
   "cell_type": "code",
   "execution_count": null,
   "id": "67a67aa8",
   "metadata": {},
   "outputs": [],
   "source": [
    "\n",
    "if __name__ == \"__main__\":\n",
    "    add()\n",
    "    print(first_number)"
   ]
  },
  {
   "cell_type": "code",
   "execution_count": null,
   "id": "6f475c73",
   "metadata": {},
   "outputs": [],
   "source": [
    "\n",
    "# Global variables for first_number and second_number.\n",
    "first_number = 2\n",
    "second_number = 3"
   ]
  },
  {
   "cell_type": "code",
   "execution_count": null,
   "id": "132d7d84",
   "metadata": {},
   "outputs": [],
   "source": [
    "# Define a function that will add two numbers.\n"
   ]
  }
 ],
 "metadata": {},
 "nbformat": 4,
 "nbformat_minor": 5
}
