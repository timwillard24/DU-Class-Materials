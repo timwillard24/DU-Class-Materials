{
 "cells": [
  {
   "cell_type": "code",
   "execution_count": null,
   "id": "ad45d8db",
   "metadata": {},
   "outputs": [],
   "source": [
    "def my_function(parameter1, parameter2):\n",
    "    \"\"\"\n",
    "    Brief description of the function."
   ]
  },
  {
   "cell_type": "code",
   "execution_count": null,
   "id": "c61c6a9d",
   "metadata": {},
   "outputs": [],
   "source": [
    "   Optional:\n",
    "     More detailed description of what the function does."
   ]
  },
  {
   "cell_type": "code",
   "execution_count": null,
   "id": "888ce55c",
   "metadata": {},
   "outputs": [],
   "source": [
    "    Args:\n",
    "        arg1 (type): Description of arg1.\n",
    "        arg2 (type): Description of arg2."
   ]
  },
  {
   "cell_type": "code",
   "execution_count": null,
   "id": "e7cba4ba",
   "metadata": {},
   "outputs": [],
   "source": [
    "    Returns:\n",
    "        type: Description of the return value or print statement."
   ]
  },
  {
   "cell_type": "code",
   "execution_count": null,
   "id": "afb69f66",
   "metadata": {},
   "outputs": [],
   "source": [
    "    Raises:\n",
    "        ErrorType: Description of the exception raised, if any."
   ]
  },
  {
   "cell_type": "code",
   "execution_count": null,
   "id": "d8f52274",
   "metadata": {},
   "outputs": [],
   "source": [
    "    Examples:\n",
    "        Provide some usage examples of the function."
   ]
  },
  {
   "cell_type": "code",
   "execution_count": null,
   "id": "b8e5d000",
   "metadata": {},
   "outputs": [],
   "source": [
    "    Note:\n",
    "        Any additional notes about the function.\n",
    "    \"\"\"\n",
    "    # Function code here\n"
   ]
  }
 ],
 "metadata": {},
 "nbformat": 4,
 "nbformat_minor": 5
}
