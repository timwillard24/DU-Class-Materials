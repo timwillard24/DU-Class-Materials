{
 "cells": [
  {
   "cell_type": "code",
   "execution_count": null,
   "id": "dc43dc2c",
   "metadata": {},
   "outputs": [],
   "source": [
    "def my_function(parameter1, parameter2):\n",
    "    \"\"\"\n",
    "    Brief description of the function.\n",
    "\n",
    "   Optional:\n",
    "     More detailed description of what the function does.\n",
    "\n",
    "    Args:\n",
    "        arg1 (type): Description of arg1.\n",
    "        arg2 (type): Description of arg2.\n",
    "\n",
    "    Returns:\n",
    "        type: Description of the return value or print statement.\n",
    "\n",
    "    Raises:\n",
    "        ErrorType: Description of the exception raised, if any.\n",
    "\n",
    "    Examples:\n",
    "        Provide some usage examples of the function.\n",
    "\n",
    "    Note:\n",
    "        Any additional notes about the function.\n",
    "    \"\"\"\n",
    "    # Function code here"
   ]
  },
  {
   "cell_type": "code",
   "execution_count": null,
   "id": "862dc122",
   "metadata": {},
   "outputs": [],
   "source": [
    "\n",
    "my_function(arg1=parameter1, arg2=parameter2)\n"
   ]
  }
 ],
 "metadata": {
  "language_info": {
   "name": "python"
  }
 },
 "nbformat": 4,
 "nbformat_minor": 5
}
