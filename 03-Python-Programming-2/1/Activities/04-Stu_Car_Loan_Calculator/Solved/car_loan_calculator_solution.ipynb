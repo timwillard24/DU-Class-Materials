{
 "cells": [
  {
   "cell_type": "code",
   "execution_count": 1,
   "id": "aca14310",
   "metadata": {},
   "outputs": [
    {
     "data": {
      "text/plain": [
       "' Calculating the cost of a new car'"
      ]
     },
     "execution_count": 1,
     "metadata": {},
     "output_type": "execute_result"
    }
   ],
   "source": [
    "\"\"\" Calculating the cost of a new car\"\"\""
   ]
  },
  {
   "cell_type": "code",
   "execution_count": 2,
   "id": "c4f7616f",
   "metadata": {},
   "outputs": [],
   "source": [
    "def calculate_future_value(current_loan_value, annual_interest_rate, months_remaining):\n",
    "    \"\"\"\n",
    "    Create a function called calculate_future_value\n",
    "    Args:\n",
    "        current_loan_value (float): The current loan value\n",
    "        the annual_interest_rate (float): The APR\n",
    "        the months_remaining (int): The number of months remaining on the loan\n",
    "\n",
    "    Returns:\n",
    "        Prints the future value of the loan as a float.\n",
    "    \"\"\"\n",
    "    future_value = current_loan_value * (1 + (annual_interest_rate / 12)) ** months_remaining\n",
    "    # Print the future value of the car to 2 decimal places and thousandths.\n",
    "    print(f\"The future value of the new car is ${future_value: ,.2f}.\")\n"
   ]
  },
  {
   "cell_type": "code",
   "execution_count": 3,
   "id": "9a5ace9d",
   "metadata": {},
   "outputs": [],
   "source": [
    "\n",
    "\n",
    "new_car_loan = {\n",
    "    \"current_loan_value\": 25000,\n",
    "    \"months_remaining\": 6,\n",
    "    \"annual_interest_rate\": 0.085\n",
    "    }"
   ]
  },
  {
   "cell_type": "code",
   "execution_count": 4,
   "id": "54be1bb2",
   "metadata": {},
   "outputs": [
    {
     "name": "stdout",
     "output_type": "stream",
     "text": [
      "The future value of the new car is $ 26,081.49.\n"
     ]
    }
   ],
   "source": [
    "# Set the function call equal to a variable called cost_of_new_car.\n",
    "# Pass the relevant information from the dictionary as arguments to the function.\n",
    "calculate_future_value(\n",
    "    new_car_loan[\"current_loan_value\"],\n",
    "    new_car_loan[\"annual_interest_rate\"],\n",
    "    new_car_loan[\"months_remaining\"]\n",
    "    )\n"
   ]
  }
 ],
 "metadata": {
  "kernelspec": {
   "display_name": "Python 3",
   "language": "python",
   "name": "python3"
  },
  "language_info": {
   "codemirror_mode": {
    "name": "ipython",
    "version": 3
   },
   "file_extension": ".py",
   "mimetype": "text/x-python",
   "name": "python",
   "nbconvert_exporter": "python",
   "pygments_lexer": "ipython3",
   "version": "3.12.2"
  }
 },
 "nbformat": 4,
 "nbformat_minor": 5
}
