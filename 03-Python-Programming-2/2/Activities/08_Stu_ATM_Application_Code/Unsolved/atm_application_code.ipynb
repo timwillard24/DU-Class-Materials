{
 "cells": [
  {
   "cell_type": "code",
   "execution_count": null,
   "id": "330a4744",
   "metadata": {},
   "outputs": [],
   "source": [
    "\"\"\"This is a basic ATM Application.\n",
    "This is a program consists of the basic actions of an ATM.\n",
    "\"\"\""
   ]
  },
  {
   "cell_type": "code",
   "execution_count": 1,
   "id": "7ee66610",
   "metadata": {},
   "outputs": [],
   "source": [
    "accounts = [\n",
    "    {\n",
    "    \"pin\": 123456,\n",
    "    \"balance\" : 1436.19},\n",
    "    {\n",
    "    \"pin\" : 246802,\n",
    "    \"balance\": 3571.87},\n",
    "    {\n",
    "    \"pin\": 135791,\n",
    "    \"balance\" : 543.79},\n",
    "    {\n",
    "    \"pin\" : 123987,\n",
    "    \"balance\": 25.89},\n",
    "    {\n",
    "    \"pin\" : 269731,\n",
    "    \"balance\": 3278.42}\n",
    "]"
   ]
  },
  {
   "cell_type": "code",
   "execution_count": 2,
   "id": "a4ff1bdf",
   "metadata": {},
   "outputs": [],
   "source": [
    "# Define the `login` function for the ATM application.\n",
    "def login(pin):\n",
    "    \"\"\"The function a for loop to check to validate the PIN against this list of `accounts`.\n",
    "        If the PIN is validated, the function should return the account's balance.\n",
    "    Args:\n",
    "        pin (integer): The users pin number\n",
    "\n",
    "    Returns:\n",
    "        If the pin matches one of the pin numbers in the \"accounts\"\n",
    "        the account balance is returned.\n",
    "    \"\"\"\n",
    "    for account in accounts:\n",
    "        if int(pin) == account[\"pin\"]:\n",
    "            account_balance = account['balance']\n",
    "\n",
    "    return account_balance"
   ]
  },
  {
   "cell_type": "code",
   "execution_count": 3,
   "id": "3641da3d",
   "metadata": {},
   "outputs": [],
   "source": [
    "# Define the `check_balance` function for the ATM application.\n",
    "def check_balance(account_balance):\n",
    "    \"\"\"The function uses the account balance as a parameter.\n",
    "    and returns the balance of the account.\n",
    "\n",
    "    Args:\n",
    "        account_balance (float): The balance of the account.\n",
    "\n",
    "    Returns:\n",
    "        Prints the account balance formatted to two decimal places and thousandths.\n",
    "    \"\"\"\n",
    "    ## YOUR CODE HERE\n",
    "    account_balance=round(account_balance, 2)\n",
    "    print(account_balance)"
   ]
  },
  {
   "cell_type": "code",
   "execution_count": 4,
   "id": "2d6e9296",
   "metadata": {},
   "outputs": [],
   "source": [
    "# Define the `make_deposit` function for the ATM application.\n",
    "def make_deposit(account_balance, deposit):\n",
    "    \"\"\"# This function takes in the account balance and deposit amount as parameters.\n",
    "    Then validates that the deposit amount is greater than 0.\n",
    "\n",
    "    Args:\n",
    "        account_balance (float): The balance of the account\n",
    "        deposit (float): An amount deposited into the account greater than 0.\n",
    "\n",
    "    Returns:\n",
    "        The function returns the balance after being adjusted for the deposit.\n",
    "\n",
    "    Notes:\n",
    "        The deposit balance should equal the account balance plus the deposit amount.\n",
    "    \"\"\"\n",
    "    ## YOUR CODE HERE\n",
    "    aaccount_balance=round(account_balance, 2)\n",
    "    deposit_balance=(account_balance + make_deposit)\n",
    "    return deposit_balance\n",
    "print(deposit)"
   ]
  },
  {
   "cell_type": "code",
   "execution_count": null,
   "id": "97c3e1a0",
   "metadata": {},
   "outputs": [],
   "source": [
    "   "
   ]
  }
 ],
 "metadata": {
  "kernelspec": {
   "display_name": "dev",
   "language": "python",
   "name": "python3"
  },
  "language_info": {
   "codemirror_mode": {
    "name": "ipython",
    "version": 3
   },
   "file_extension": ".py",
   "mimetype": "text/x-python",
   "name": "python",
   "nbconvert_exporter": "python",
   "pygments_lexer": "ipython3",
   "version": "3.10.14"
  }
 },
 "nbformat": 4,
 "nbformat_minor": 5
}
