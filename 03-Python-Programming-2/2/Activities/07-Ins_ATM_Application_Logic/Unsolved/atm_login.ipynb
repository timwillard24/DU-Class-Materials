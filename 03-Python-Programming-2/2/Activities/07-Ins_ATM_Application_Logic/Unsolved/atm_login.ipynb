{
 "cells": [
  {
   "cell_type": "code",
   "execution_count": null,
   "id": "bcb56d45",
   "metadata": {},
   "outputs": [],
   "source": [
    "\"\"\"This is a basic ATM Application."
   ]
  },
  {
   "cell_type": "code",
   "execution_count": null,
   "id": "e9cc8b5f",
   "metadata": {},
   "outputs": [],
   "source": [
    "This is a command line application that mimics the actions of an ATM.\n",
    "\"\"\""
   ]
  },
  {
   "cell_type": "code",
   "execution_count": null,
   "id": "e2c966e3",
   "metadata": {},
   "outputs": [],
   "source": [
    "accounts = [\n",
    "    {\n",
    "    \"pin\": 123456,\n",
    "    \"balance\" : 1436.19},\n",
    "    {\n",
    "    \"pin\" : 246802,\n",
    "    \"balance\": 3571.87},\n",
    "    {\n",
    "    \"pin\": 135791,\n",
    "    \"balance\" : 543.79},\n",
    "    {\n",
    "    \"pin\" : 123987,\n",
    "    \"balance\": 25.89},\n",
    "    {\n",
    "    \"pin\" : 269731,\n",
    "    \"balance\": 3258.42}\n",
    "]"
   ]
  },
  {
   "cell_type": "code",
   "execution_count": null,
   "id": "2f257b8b",
   "metadata": {},
   "outputs": [],
   "source": [
    "# Define the `login` function for the ATM application.\n",
    "def login(pin):\n",
    "     \"\"\"Create a login function for the ATM application.\n",
    "    Args:\n",
    "        pin (integer): The user’s pin number"
   ]
  },
  {
   "cell_type": "code",
   "execution_count": null,
   "id": "9beb7534",
   "metadata": {},
   "outputs": [],
   "source": [
    "    Returns:\n",
    "        If the pin matches one of the pin numbers in the \"accounts\",\n",
    "        the account balance is returned."
   ]
  },
  {
   "cell_type": "code",
   "execution_count": null,
   "id": "20a22582",
   "metadata": {},
   "outputs": [],
   "source": [
    "    Notes:\n",
    "        Create a for loop to check to validate the PIN against this list of `accounts`.\n",
    "        If the PIN is validated, print the account's balance formatted to two decimal places and thousandths.\n",
    "    \"\"\""
   ]
  },
  {
   "cell_type": "code",
   "execution_count": null,
   "id": "609622de",
   "metadata": {},
   "outputs": [],
   "source": []
  },
  {
   "cell_type": "code",
   "execution_count": null,
   "id": "083deaaa",
   "metadata": {},
   "outputs": [],
   "source": [
    "if __name__ == \"__main__\":\n",
    "    # Set the function call equal to a variable called account_balance.\n"
   ]
  }
 ],
 "metadata": {},
 "nbformat": 4,
 "nbformat_minor": 5
}
