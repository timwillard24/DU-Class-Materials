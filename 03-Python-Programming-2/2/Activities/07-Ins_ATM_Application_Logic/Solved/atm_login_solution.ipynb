{
 "cells": [
  {
   "cell_type": "code",
   "execution_count": 1,
   "id": "a917178c",
   "metadata": {},
   "outputs": [],
   "source": [
    "\"\"\"This is a basic ATM Application.\n",
    "\n",
    "This is a command line application that mimics the actions of an ATM.\n",
    "\"\"\"\n",
    "\n",
    "accounts = [\n",
    "    {\n",
    "    \"pin\": 123456,\n",
    "    \"balance\" : 1436.19},\n",
    "    {\n",
    "    \"pin\" : 246802,\n",
    "    \"balance\": 3571.87},\n",
    "    {\n",
    "    \"pin\": 135791,\n",
    "    \"balance\" : 543.79},\n",
    "    {\n",
    "    \"pin\" : 123987,\n",
    "    \"balance\": 25.89},\n",
    "    {\n",
    "    \"pin\" : 269731,\n",
    "    \"balance\": 3258.42}\n",
    "]"
   ]
  },
  {
   "cell_type": "code",
   "execution_count": 2,
   "id": "78a77aa1",
   "metadata": {},
   "outputs": [],
   "source": [
    "# Define the `login` function for the ATM application.\n",
    "def login(pin):\n",
    "    \"\"\"Create a login function for the ATM application.\n",
    "    Args:\n",
    "        pin (integer): The users pin number\n",
    "\n",
    "    Returns:\n",
    "        If the pin matches one of the pin numbers in the \"accounts\"\n",
    "        the account balance is returned.\n",
    "\n",
    "    Notes:\n",
    "        Create a for loop to check to validate the PIN against this list of `accounts`.\n",
    "        If the PIN is validated, print the account's balance formatted to two decimal places and thousandths.\n",
    "    \"\"\"\n",
    "    for account in accounts:\n",
    "        if int(pin) == account[\"pin\"]:\n",
    "            print(f\"The account balance for PIN {account['pin']} is: ${account['balance']: ,.2f}.\")\n",
    "\n"
   ]
  },
  {
   "cell_type": "code",
   "execution_count": 3,
   "id": "e73076e9",
   "metadata": {},
   "outputs": [
    {
     "name": "stdout",
     "output_type": "stream",
     "text": [
      "The account balance for PIN 246802 is: $ 3,571.87.\n"
     ]
    }
   ],
   "source": [
    "\n",
    "\n",
    "# Set the function call equal to a variable called account_balance.\n",
    "account_balance = login(246802)\n"
   ]
  }
 ],
 "metadata": {
  "kernelspec": {
   "display_name": "base",
   "language": "python",
   "name": "python3"
  },
  "language_info": {
   "codemirror_mode": {
    "name": "ipython",
    "version": 3
   },
   "file_extension": ".py",
   "mimetype": "text/x-python",
   "name": "python",
   "nbconvert_exporter": "python",
   "pygments_lexer": "ipython3",
   "version": "3.11.5"
  }
 },
 "nbformat": 4,
 "nbformat_minor": 5
}
