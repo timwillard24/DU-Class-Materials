{
 "cells": [
  {
   "cell_type": "code",
   "execution_count": null,
   "id": "281c83ca",
   "metadata": {},
   "outputs": [],
   "source": [
    "\"\"\"Refactoring the travel loops code using a function and enumerate where applicable.\"\"\""
   ]
  },
  {
   "cell_type": "code",
   "execution_count": 12,
   "id": "ac1d20de",
   "metadata": {},
   "outputs": [],
   "source": [
    "\"\"\"Refactoring the travel loops code using a function and enumerate where applicable.\"\"\"\n",
    "\n",
    "# Define the function travel_cities.\n",
    "def travel_cities(cities, cities_daily_cost):\n",
    "    \"\"\"\n",
    "    Update the city list and its corresponding daily cost list.\n",
    "\n",
    "    This function prompts the user to add cities to the city list and their\n",
    "    respective daily costs. It then modifies the daily cost by adding 10 to\n",
    "    each item. Finally, it displays the city     and its updated daily cost.\n",
    "\n",
    "    Args:\n",
    "        cities (list): A list of cities.\n",
    "        cities_daily_cost (list): A list of daily costs corresponding to the cities.\n",
    "    Returns:\n",
    "        The list of cities with the daily cost for each city.\n",
    "    \"\"\"\n",
    "    # Add the code to be refactored here:\n",
    "\n",
    "    print(\"Here are the cities in the current list:\")\n",
    "    for city in cities:\n",
    "        print(city)\n",
    "    print(\"Please add 3 cities to the list of cities:\")\n",
    "    # Create a for loop to ask the user to enter a city that will be added to the list.\n",
    "    for _ in range(3):\n",
    "        city = input(\"What city should be added to the list? \").title()\n",
    "        cities.append(city)\n",
    "        # Use a while loop to append to the cities_daily_cost list as long as that list\n",
    "# is shorter than the cities list\n",
    "    while len(cities_daily_cost) < len(cities):\n",
    "    # Use the length of cities_daily_cost for the index of cities to print its\n",
    "    # value when asking the cost to append to the cities_daily_cost list\n",
    "        index = len(cities_daily_cost)\n",
    "        cost = int(input(f\"What is the daily cost for {cities[index]}? \"))\n",
    "        cities_daily_cost.append(cost)\n",
    "        # Use a for loop to loop through both of the lists at the same time, since\n",
    "# they're the same length, and print out the city and daily cost on the same\n",
    "# line\n",
    "    for i in range(len(cities)):\n",
    "        print(f\"Daily cost of {cities[i]} is ${cities_daily_cost[i]}\")"
   ]
  },
  {
   "cell_type": "code",
   "execution_count": 13,
   "id": "3c3321d8",
   "metadata": {},
   "outputs": [],
   "source": [
    "# Declare lists\n",
    "cities = [\"Rome\", \"Nairobi\", \"Phnom Penh\", \"Santiago\", \"Toronto\", \"Rotorua\"]\n",
    "cities_daily_cost = [150, 70, 60, 80, 110, 125]"
   ]
  },
  {
   "cell_type": "code",
   "execution_count": 14,
   "id": "61cfe485",
   "metadata": {},
   "outputs": [
    {
     "name": "stdout",
     "output_type": "stream",
     "text": [
      "Here are the cities in the current list:\n",
      "Rome\n",
      "Nairobi\n",
      "Phnom Penh\n",
      "Santiago\n",
      "Toronto\n",
      "Rotorua\n",
      "Please add 3 cities to the list of cities:\n",
      "Daily cost of Rome is $150\n",
      "Daily cost of Nairobi is $70\n",
      "Daily cost of Phnom Penh is $60\n",
      "Daily cost of Santiago is $80\n",
      "Daily cost of Toronto is $110\n",
      "Daily cost of Rotorua is $125\n",
      "Daily cost of Denver is $50\n",
      "Daily cost of New York is $150\n",
      "Daily cost of Chicago is $220\n"
     ]
    }
   ],
   "source": [
    "# Call the function\n",
    "travel_cities(cities, cities_daily_cost)"
   ]
  }
 ],
 "metadata": {
  "kernelspec": {
   "display_name": "dev",
   "language": "python",
   "name": "python3"
  },
  "language_info": {
   "codemirror_mode": {
    "name": "ipython",
    "version": 3
   },
   "file_extension": ".py",
   "mimetype": "text/x-python",
   "name": "python",
   "nbconvert_exporter": "python",
   "pygments_lexer": "ipython3",
   "version": "3.10.14"
  }
 },
 "nbformat": 4,
 "nbformat_minor": 5
}
