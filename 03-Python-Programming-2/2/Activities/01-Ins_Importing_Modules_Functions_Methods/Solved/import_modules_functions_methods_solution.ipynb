{
 "cells": [
  {
   "cell_type": "code",
   "execution_count": 2,
   "id": "9c65c6f0",
   "metadata": {},
   "outputs": [],
   "source": [
    "\"\"\"Importing  modules, functions and methods\"\"\"\n",
    "import pandas as pd\n"
   ]
  },
  {
   "cell_type": "code",
   "execution_count": 2,
   "id": "c939e80b",
   "metadata": {},
   "outputs": [],
   "source": [
    "# Import the sqrt function from the math module.\n",
    "from math import sqrt"
   ]
  },
  {
   "cell_type": "code",
   "execution_count": 3,
   "id": "92182196",
   "metadata": {},
   "outputs": [
    {
     "name": "stdout",
     "output_type": "stream",
     "text": [
      "The square root of 16 is 4.0\n"
     ]
    }
   ],
   "source": [
    "# Calculate the square root of a number.\n",
    "number = 16\n",
    "result = sqrt(number)\n",
    "print(f\"The square root of {number} is {result}\")"
   ]
  },
  {
   "cell_type": "code",
   "execution_count": 4,
   "id": "f67d642b",
   "metadata": {},
   "outputs": [],
   "source": [
    "\n",
    "# Import the randint and choice methods from the random module.\n",
    "from random import randint, choice"
   ]
  },
  {
   "cell_type": "code",
   "execution_count": 5,
   "id": "1b5677e0",
   "metadata": {},
   "outputs": [
    {
     "name": "stdout",
     "output_type": "stream",
     "text": [
      "The random number is: 3\n"
     ]
    }
   ],
   "source": [
    "# Generate a random number between 1 and 10 and selecting a random element from a list.\n",
    "random_number = randint(1, 10)\n",
    "print(f\"The random number is: {random_number}\")"
   ]
  },
  {
   "cell_type": "code",
   "execution_count": 6,
   "id": "872dc20a",
   "metadata": {},
   "outputs": [],
   "source": [
    "my_list = ['apple', 'banana', 'orange', 'grape', 'mango']"
   ]
  },
  {
   "cell_type": "code",
   "execution_count": 7,
   "id": "d9725fc9",
   "metadata": {},
   "outputs": [
    {
     "name": "stdout",
     "output_type": "stream",
     "text": [
      "A random element from the list is: grape\n"
     ]
    }
   ],
   "source": [
    "# Use the choice method to randomly select an element from the list.\n",
    "random_element = choice(my_list)\n",
    "print(f\"A random element from the list is: {random_element}\")"
   ]
  },
  {
   "cell_type": "code",
   "execution_count": 8,
   "id": "194210ad",
   "metadata": {},
   "outputs": [],
   "source": [
    "# Import the datetime and date classes from the datetime module.\n",
    "from datetime import datetime, date"
   ]
  },
  {
   "cell_type": "code",
   "execution_count": 9,
   "id": "fa4b7cd4",
   "metadata": {},
   "outputs": [],
   "source": [
    "# Get the current datetime using the now function.\n",
    "current_datetime = datetime.now()\n",
    "# Get the current time using the strftime function.\n",
    "current_time = current_datetime.strftime(\"%H:%M:%S\")\n",
    "# Get the current date using the today function.\n",
    "current_date = date.today()"
   ]
  },
  {
   "cell_type": "code",
   "execution_count": 10,
   "id": "e91245c4",
   "metadata": {},
   "outputs": [
    {
     "name": "stdout",
     "output_type": "stream",
     "text": [
      "The current datetime is: 2024-05-22 16:18:16.280858\n",
      "The current time is: 16:18:16\n",
      "The current date is: 2024-05-22\n"
     ]
    }
   ],
   "source": [
    "print(f\"The current datetime is: {current_datetime}\")\n",
    "print(f\"The current time is: {current_time}\")\n",
    "print(f\"The current date is: {current_date}\")\n"
   ]
  }
 ],
 "metadata": {
  "kernelspec": {
   "display_name": "base",
   "language": "python",
   "name": "python3"
  },
  "language_info": {
   "codemirror_mode": {
    "name": "ipython",
    "version": 3
   },
   "file_extension": ".py",
   "mimetype": "text/x-python",
   "name": "python",
   "nbconvert_exporter": "python",
   "pygments_lexer": "ipython3",
   "version": "3.10.14"
  }
 },
 "nbformat": 4,
 "nbformat_minor": 5
}
