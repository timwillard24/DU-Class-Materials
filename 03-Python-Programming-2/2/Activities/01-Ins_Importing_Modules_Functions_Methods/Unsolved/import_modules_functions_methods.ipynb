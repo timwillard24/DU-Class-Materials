{
 "cells": [
  {
   "cell_type": "code",
   "execution_count": null,
   "id": "0e574052",
   "metadata": {},
   "outputs": [],
   "source": [
    "\"\"\"Importing  modules, functions and methods\"\"\""
   ]
  },
  {
   "cell_type": "code",
   "execution_count": null,
   "id": "984263a3",
   "metadata": {},
   "outputs": [],
   "source": [
    "# Import the sqrt function from the math module."
   ]
  },
  {
   "cell_type": "code",
   "execution_count": null,
   "id": "68672c2e",
   "metadata": {},
   "outputs": [],
   "source": [
    "\n",
    "# Calculate the square root of a number."
   ]
  },
  {
   "cell_type": "code",
   "execution_count": null,
   "id": "572367b8",
   "metadata": {},
   "outputs": [],
   "source": [
    "\n",
    "# Import the randint and choice methods from the random module."
   ]
  },
  {
   "cell_type": "code",
   "execution_count": null,
   "id": "b6ef697d",
   "metadata": {},
   "outputs": [],
   "source": [
    "# Generate a random number between 1 and 10 and selecting a random element from a list."
   ]
  },
  {
   "cell_type": "code",
   "execution_count": null,
   "id": "b54d42a6",
   "metadata": {},
   "outputs": [],
   "source": [
    "\n",
    "# Use the choice method to randomly select an element from the list."
   ]
  },
  {
   "cell_type": "code",
   "execution_count": null,
   "id": "2e79601b",
   "metadata": {},
   "outputs": [],
   "source": [
    "# Import the datetime and date classes from the datetime module."
   ]
  },
  {
   "cell_type": "code",
   "execution_count": null,
   "id": "b86026e0",
   "metadata": {},
   "outputs": [],
   "source": [
    "# Get the current datetime using the now function."
   ]
  },
  {
   "cell_type": "code",
   "execution_count": null,
   "id": "a8fdf0d1",
   "metadata": {},
   "outputs": [],
   "source": [
    "\n",
    "# Get the current time using the strftime function."
   ]
  },
  {
   "cell_type": "code",
   "execution_count": null,
   "id": "f44f0317",
   "metadata": {},
   "outputs": [],
   "source": [
    "# Get the current date using the today function."
   ]
  },
  {
   "cell_type": "code",
   "execution_count": null,
   "id": "a649d1db",
   "metadata": {},
   "outputs": [],
   "source": [
    "\n"
   ]
  }
 ],
 "metadata": {},
 "nbformat": 4,
 "nbformat_minor": 5
}
