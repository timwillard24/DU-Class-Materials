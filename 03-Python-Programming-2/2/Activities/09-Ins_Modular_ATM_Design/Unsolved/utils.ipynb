{
 "cells": [
  {
   "cell_type": "code",
   "execution_count": null,
   "id": "0c78c50e",
   "metadata": {},
   "outputs": [],
   "source": [
    "\"\"\"Helper functions for loading accounts and validating PIN number.\"\"\""
   ]
  },
  {
   "cell_type": "code",
   "execution_count": null,
   "id": "d294892c",
   "metadata": {},
   "outputs": [],
   "source": [
    "# Import the dependencies.\n",
    "import csv\n",
    "import sys\n",
    "from pathlib import Path\n"
   ]
  }
 ],
 "metadata": {},
 "nbformat": 4,
 "nbformat_minor": 5
}
