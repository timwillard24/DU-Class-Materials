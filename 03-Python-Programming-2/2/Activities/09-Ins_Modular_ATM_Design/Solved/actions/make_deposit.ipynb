{
 "cells": [
  {
   "cell_type": "code",
   "execution_count": null,
   "id": "45ce5814",
   "metadata": {},
   "outputs": [],
   "source": [
    "\"\"\"Adjusts account balance after a deposit.\"\"\""
   ]
  },
  {
   "cell_type": "code",
   "execution_count": null,
   "id": "05a0ed06",
   "metadata": {},
   "outputs": [],
   "source": [
    "import sys"
   ]
  },
  {
   "cell_type": "code",
   "execution_count": null,
   "id": "1a0fa5a2",
   "metadata": {},
   "outputs": [],
   "source": [
    "\n",
    "def make_deposit(account):\n",
    "    \"\"\"This function prompts the user to make a deposit.\n",
    "    If the amount is greater than 0.0 the balance was successful.\n",
    "    If the amount is less than 0.0 then the system ask the user to try again."
   ]
  },
  {
   "cell_type": "code",
   "execution_count": null,
   "id": "ef26b5e3",
   "metadata": {},
   "outputs": [],
   "source": [
    "    Args:\n",
    "        account (dict): The keys and values of the validated account."
   ]
  },
  {
   "cell_type": "code",
   "execution_count": null,
   "id": "a9ac3180",
   "metadata": {},
   "outputs": [],
   "source": [
    "    Returns:\n",
    "        account (dict): The account balance after the deposit.\n",
    "    \"\"\"\n",
    "    # Use input to determine the amount of the deposit\n",
    "    # Re-type amount from a string to a floating point number.\n",
    "    amount = input(\"How much would you like to deposit?\\n\")\n",
    "    amount = float(amount)"
   ]
  },
  {
   "cell_type": "code",
   "execution_count": null,
   "id": "7f535afd",
   "metadata": {},
   "outputs": [],
   "source": [
    "  # Validates amount of deposit. If true processes deposit, else returns error.\n",
    "    if amount > 0.0:\n",
    "        account[\"balance\"] = account[\"balance\"] + amount\n",
    "        print(\"Your deposit was successful.\")\n",
    "        return account"
   ]
  },
  {
   "cell_type": "code",
   "execution_count": null,
   "id": "5475c861",
   "metadata": {},
   "outputs": [],
   "source": [
    "    sys.exit(\"This is not a valid deposit amount. Please try again.\")\n"
   ]
  }
 ],
 "metadata": {},
 "nbformat": 4,
 "nbformat_minor": 5
}
