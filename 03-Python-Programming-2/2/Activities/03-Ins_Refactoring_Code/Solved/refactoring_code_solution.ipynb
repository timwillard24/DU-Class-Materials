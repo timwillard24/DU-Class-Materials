{
 "cells": [
  {
   "cell_type": "code",
   "execution_count": 1,
   "id": "5b1c4ddf",
   "metadata": {},
   "outputs": [
    {
     "data": {
      "text/plain": [
       "'Refactoring Examples'"
      ]
     },
     "execution_count": 1,
     "metadata": {},
     "output_type": "execute_result"
    }
   ],
   "source": [
    "\"\"\"Refactoring Examples\"\"\""
   ]
  },
  {
   "cell_type": "code",
   "execution_count": 2,
   "id": "02ee5412",
   "metadata": {},
   "outputs": [],
   "source": [
    "# Code using for loop.\n",
    "numbers = [1, 2, 3, 4, 5]\n",
    "squared_numbers = []\n",
    "for num in numbers:\n",
    "    squared_numbers.append(num ** 2)"
   ]
  },
  {
   "cell_type": "code",
   "execution_count": 3,
   "id": "918dc78c",
   "metadata": {},
   "outputs": [
    {
     "name": "stdout",
     "output_type": "stream",
     "text": [
      "[1, 4, 9, 16, 25]\n"
     ]
    }
   ],
   "source": [
    "print(squared_numbers)"
   ]
  },
  {
   "cell_type": "code",
   "execution_count": 4,
   "id": "4a4ff46e",
   "metadata": {},
   "outputs": [],
   "source": [
    "# Refactored the code to use a list comprehension\n",
    "numbers = [1, 2, 3, 4, 5]\n",
    "squared_numbers = [num ** 2 for num in numbers]"
   ]
  },
  {
   "cell_type": "code",
   "execution_count": 5,
   "id": "1731c1f2",
   "metadata": {},
   "outputs": [
    {
     "name": "stdout",
     "output_type": "stream",
     "text": [
      "[1, 4, 9, 16, 25]\n"
     ]
    }
   ],
   "source": [
    "print(squared_numbers)"
   ]
  },
  {
   "cell_type": "code",
   "execution_count": 6,
   "id": "ced6f892",
   "metadata": {},
   "outputs": [
    {
     "name": "stdout",
     "output_type": "stream",
     "text": [
      "Index: 0, Value: 10\n",
      "Index: 1, Value: 20\n",
      "Index: 2, Value: 30\n",
      "Index: 3, Value: 40\n",
      "Index: 4, Value: 50\n"
     ]
    }
   ],
   "source": [
    "\n",
    "# Code that uses the range() function.\n",
    "numbers = [10, 20, 30, 40, 50]\n",
    "for i in range(len(numbers)):\n",
    "    print(f\"Index: {i}, Value: {numbers[i]}\")"
   ]
  },
  {
   "cell_type": "code",
   "execution_count": 7,
   "id": "0740e3e7",
   "metadata": {},
   "outputs": [
    {
     "name": "stdout",
     "output_type": "stream",
     "text": [
      "Index: 0, Value: 10\n",
      "Index: 1, Value: 20\n",
      "Index: 2, Value: 30\n",
      "Index: 3, Value: 40\n",
      "Index: 4, Value: 50\n"
     ]
    }
   ],
   "source": [
    "# Refactored the code to use enumerate()\n",
    "numbers = [10, 20, 30, 40, 50]\n",
    "for i, num in enumerate(numbers):\n",
    "    print(f\"Index: {i}, Value: {num}\")"
   ]
  },
  {
   "cell_type": "code",
   "execution_count": 8,
   "id": "52adc9ef",
   "metadata": {},
   "outputs": [
    {
     "name": "stdout",
     "output_type": "stream",
     "text": [
      "The average is: 15.0\n"
     ]
    }
   ],
   "source": [
    "\n",
    "# Code without a function.\n",
    "numbers = [5, 10, 15, 20, 25]\n",
    "total = 0\n",
    "count = 0\n",
    "for num in numbers:\n",
    "    total += num\n",
    "    count += 1\n",
    "average = total / count\n",
    "print(f\"The average is: {average}\")"
   ]
  },
  {
   "cell_type": "code",
   "execution_count": 9,
   "id": "06903738",
   "metadata": {},
   "outputs": [],
   "source": [
    "# Refactored code with a function\n",
    "def calculate_average(numbers):\n",
    "    \"\"\"The function calculates the average of an array of numbers.\"\"\"\n",
    "    total = sum(numbers)\n",
    "    count = len(numbers)\n",
    "    average = total / count\n",
    "    return average"
   ]
  },
  {
   "cell_type": "code",
   "execution_count": 10,
   "id": "b500f878",
   "metadata": {},
   "outputs": [
    {
     "name": "stdout",
     "output_type": "stream",
     "text": [
      "The average is: 15.0\n"
     ]
    }
   ],
   "source": [
    "numbers = [5, 10, 15, 20, 25]\n",
    "average = calculate_average(numbers)\n",
    "print(f\"The average is: {average}\")\n"
   ]
  }
 ],
 "metadata": {
  "kernelspec": {
   "display_name": "base",
   "language": "python",
   "name": "python3"
  },
  "language_info": {
   "codemirror_mode": {
    "name": "ipython",
    "version": 3
   },
   "file_extension": ".py",
   "mimetype": "text/x-python",
   "name": "python",
   "nbconvert_exporter": "python",
   "pygments_lexer": "ipython3",
   "version": "3.11.5"
  }
 },
 "nbformat": 4,
 "nbformat_minor": 5
}
