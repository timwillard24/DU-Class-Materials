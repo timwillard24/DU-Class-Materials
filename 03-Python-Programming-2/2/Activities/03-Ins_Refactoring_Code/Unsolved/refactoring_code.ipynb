{
 "cells": [
  {
   "cell_type": "code",
   "execution_count": null,
   "id": "fcd233be",
   "metadata": {},
   "outputs": [],
   "source": [
    "\"\"\"Refactoring Examples\"\"\""
   ]
  },
  {
   "cell_type": "code",
   "execution_count": null,
   "id": "3e1444c6",
   "metadata": {},
   "outputs": [],
   "source": [
    "# Code using for loop."
   ]
  },
  {
   "cell_type": "code",
   "execution_count": null,
   "id": "886b892a",
   "metadata": {},
   "outputs": [],
   "source": [
    "\n",
    "# Refactored the code to use a list comprehension"
   ]
  },
  {
   "cell_type": "code",
   "execution_count": null,
   "id": "b4a6132a",
   "metadata": {},
   "outputs": [],
   "source": [
    "# Code that uses the range() function."
   ]
  },
  {
   "cell_type": "code",
   "execution_count": null,
   "id": "8ba2a839",
   "metadata": {},
   "outputs": [],
   "source": [
    "# Refactored the code to use enumerate()"
   ]
  },
  {
   "cell_type": "code",
   "execution_count": null,
   "id": "1e43f464",
   "metadata": {},
   "outputs": [],
   "source": [
    "# Code without a function."
   ]
  },
  {
   "cell_type": "code",
   "execution_count": null,
   "id": "67ced0df",
   "metadata": {},
   "outputs": [],
   "source": [
    "# Refactored code with a function\n"
   ]
  }
 ],
 "metadata": {},
 "nbformat": 4,
 "nbformat_minor": 5
}
