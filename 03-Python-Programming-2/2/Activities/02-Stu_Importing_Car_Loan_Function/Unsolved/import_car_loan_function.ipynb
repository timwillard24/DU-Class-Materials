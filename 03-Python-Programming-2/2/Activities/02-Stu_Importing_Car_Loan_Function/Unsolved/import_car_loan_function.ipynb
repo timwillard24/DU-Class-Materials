{
 "cells": [
  {
   "cell_type": "code",
   "execution_count": 3,
   "id": "f4a7faa3",
   "metadata": {},
   "outputs": [],
   "source": [
    "from CarLoan import calculate_future_value"
   ]
  },
  {
   "cell_type": "code",
   "execution_count": 4,
   "id": "f2f7a32e",
   "metadata": {},
   "outputs": [],
   "source": [
    "# Import the calculate_future_value function from the CarLoan file.\n",
    "from CarLoan import calculate_future_value"
   ]
  },
  {
   "cell_type": "code",
   "execution_count": 5,
   "id": "c0ece767",
   "metadata": {},
   "outputs": [],
   "source": [
    "\n",
    "# Create the new_car_loan dictionary.\n",
    "new_car_loan = {\n",
    "    \"current_loan_value\": 25000,\n",
    "    \"months_remaining\": 12,\n",
    "    \"annual_interest_rate\": 0.0315\n",
    "    }"
   ]
  },
  {
   "cell_type": "code",
   "execution_count": 8,
   "id": "88a4be2d",
   "metadata": {},
   "outputs": [],
   "source": [
    "# Set the function call equal to a variable called car_value.\n",
    "# Pass the relevant information from the dictionary as parameters to the function call.\n",
    "car_value=calculate_future_value(new_car_loan['current_loan_value'], new_car_loan['annual_interest_rate'], new_car_loan['months_remaining'])"
   ]
  },
  {
   "cell_type": "code",
   "execution_count": 9,
   "id": "8ec6b6b6",
   "metadata": {},
   "outputs": [
    {
     "name": "stdout",
     "output_type": "stream",
     "text": [
      "25798.969604697675\n"
     ]
    }
   ],
   "source": [
    "\n",
    "# Print the future value of the car to 2 decimal places.\n",
    "print(car_value)"
   ]
  }
 ],
 "metadata": {
  "kernelspec": {
   "display_name": "dev",
   "language": "python",
   "name": "python3"
  },
  "language_info": {
   "codemirror_mode": {
    "name": "ipython",
    "version": 3
   },
   "file_extension": ".py",
   "mimetype": "text/x-python",
   "name": "python",
   "nbconvert_exporter": "python",
   "pygments_lexer": "ipython3",
   "version": "3.10.14"
  }
 },
 "nbformat": 4,
 "nbformat_minor": 5
}
