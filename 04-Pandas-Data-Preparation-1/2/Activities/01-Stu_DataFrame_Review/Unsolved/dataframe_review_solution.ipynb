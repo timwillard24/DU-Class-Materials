{
 "cells": [
  {
   "cell_type": "code",
   "execution_count": 11,
   "metadata": {},
   "outputs": [],
   "source": [
    "import pandas as pd"
   ]
  },
  {
   "cell_type": "code",
   "execution_count": 12,
   "metadata": {},
   "outputs": [
    {
     "data": {
      "text/html": [
       "<div>\n",
       "<style scoped>\n",
       "    .dataframe tbody tr th:only-of-type {\n",
       "        vertical-align: middle;\n",
       "    }\n",
       "\n",
       "    .dataframe tbody tr th {\n",
       "        vertical-align: top;\n",
       "    }\n",
       "\n",
       "    .dataframe thead th {\n",
       "        text-align: right;\n",
       "    }\n",
       "</style>\n",
       "<table border=\"1\" class=\"dataframe\">\n",
       "  <thead>\n",
       "    <tr style=\"text-align: right;\">\n",
       "      <th></th>\n",
       "      <th>STATION</th>\n",
       "      <th>DATE</th>\n",
       "      <th>REPORT_TYPE</th>\n",
       "      <th>HourlyDryBulbTemperature</th>\n",
       "    </tr>\n",
       "  </thead>\n",
       "  <tbody>\n",
       "    <tr>\n",
       "      <th>0</th>\n",
       "      <td>72295023174</td>\n",
       "      <td>2019-01-01T00:49:00</td>\n",
       "      <td>FM-16</td>\n",
       "      <td>52</td>\n",
       "    </tr>\n",
       "    <tr>\n",
       "      <th>1</th>\n",
       "      <td>72295023174</td>\n",
       "      <td>2019-01-01T00:53:00</td>\n",
       "      <td>FM-15</td>\n",
       "      <td>51</td>\n",
       "    </tr>\n",
       "    <tr>\n",
       "      <th>2</th>\n",
       "      <td>72295023174</td>\n",
       "      <td>2019-01-01T01:53:00</td>\n",
       "      <td>FM-15</td>\n",
       "      <td>52</td>\n",
       "    </tr>\n",
       "    <tr>\n",
       "      <th>3</th>\n",
       "      <td>72295023174</td>\n",
       "      <td>2019-01-01T02:53:00</td>\n",
       "      <td>FM-15</td>\n",
       "      <td>49</td>\n",
       "    </tr>\n",
       "    <tr>\n",
       "      <th>4</th>\n",
       "      <td>72295023174</td>\n",
       "      <td>2019-01-01T03:53:00</td>\n",
       "      <td>FM-15</td>\n",
       "      <td>43</td>\n",
       "    </tr>\n",
       "  </tbody>\n",
       "</table>\n",
       "</div>"
      ],
      "text/plain": [
       "       STATION                 DATE REPORT_TYPE  HourlyDryBulbTemperature\n",
       "0  72295023174  2019-01-01T00:49:00       FM-16                        52\n",
       "1  72295023174  2019-01-01T00:53:00       FM-15                        51\n",
       "2  72295023174  2019-01-01T01:53:00       FM-15                        52\n",
       "3  72295023174  2019-01-01T02:53:00       FM-15                        49\n",
       "4  72295023174  2019-01-01T03:53:00       FM-15                        43"
      ]
     },
     "execution_count": 12,
     "metadata": {},
     "output_type": "execute_result"
    }
   ],
   "source": [
    "# Import the data\n",
    "lax_temp_df = pd.read_csv(\"../Resources/lax_temperature.csv\")\n",
    "lax_temp_df.head()\n",
    "# Show the first 5 rows"
   ]
  },
  {
   "cell_type": "code",
   "execution_count": 13,
   "metadata": {},
   "outputs": [
    {
     "data": {
      "text/html": [
       "<div>\n",
       "<style scoped>\n",
       "    .dataframe tbody tr th:only-of-type {\n",
       "        vertical-align: middle;\n",
       "    }\n",
       "\n",
       "    .dataframe tbody tr th {\n",
       "        vertical-align: top;\n",
       "    }\n",
       "\n",
       "    .dataframe thead th {\n",
       "        text-align: right;\n",
       "    }\n",
       "</style>\n",
       "<table border=\"1\" class=\"dataframe\">\n",
       "  <thead>\n",
       "    <tr style=\"text-align: right;\">\n",
       "      <th></th>\n",
       "      <th>station</th>\n",
       "      <th>date</th>\n",
       "      <th>report_type</th>\n",
       "      <th>hourly_temp</th>\n",
       "    </tr>\n",
       "  </thead>\n",
       "  <tbody>\n",
       "    <tr>\n",
       "      <th>0</th>\n",
       "      <td>72295023174</td>\n",
       "      <td>2019-01-01T00:49:00</td>\n",
       "      <td>FM-16</td>\n",
       "      <td>52</td>\n",
       "    </tr>\n",
       "    <tr>\n",
       "      <th>1</th>\n",
       "      <td>72295023174</td>\n",
       "      <td>2019-01-01T00:53:00</td>\n",
       "      <td>FM-15</td>\n",
       "      <td>51</td>\n",
       "    </tr>\n",
       "    <tr>\n",
       "      <th>2</th>\n",
       "      <td>72295023174</td>\n",
       "      <td>2019-01-01T01:53:00</td>\n",
       "      <td>FM-15</td>\n",
       "      <td>52</td>\n",
       "    </tr>\n",
       "    <tr>\n",
       "      <th>3</th>\n",
       "      <td>72295023174</td>\n",
       "      <td>2019-01-01T02:53:00</td>\n",
       "      <td>FM-15</td>\n",
       "      <td>49</td>\n",
       "    </tr>\n",
       "    <tr>\n",
       "      <th>4</th>\n",
       "      <td>72295023174</td>\n",
       "      <td>2019-01-01T03:53:00</td>\n",
       "      <td>FM-15</td>\n",
       "      <td>43</td>\n",
       "    </tr>\n",
       "  </tbody>\n",
       "</table>\n",
       "</div>"
      ],
      "text/plain": [
       "       station                 date report_type  hourly_temp\n",
       "0  72295023174  2019-01-01T00:49:00       FM-16           52\n",
       "1  72295023174  2019-01-01T00:53:00       FM-15           51\n",
       "2  72295023174  2019-01-01T01:53:00       FM-15           52\n",
       "3  72295023174  2019-01-01T02:53:00       FM-15           49\n",
       "4  72295023174  2019-01-01T03:53:00       FM-15           43"
      ]
     },
     "execution_count": 13,
     "metadata": {},
     "output_type": "execute_result"
    }
   ],
   "source": [
    "# Rename the columns\n",
    "lax_temp_df.columns = [\"station\", \"date\", \"report_type\", \"hourly_temp\"]\n",
    "lax_temp_df.head()"
   ]
  },
  {
   "cell_type": "code",
   "execution_count": 20,
   "metadata": {},
   "outputs": [
    {
     "data": {
      "text/plain": [
       "510"
      ]
     },
     "execution_count": 20,
     "metadata": {},
     "output_type": "execute_result"
    }
   ],
   "source": [
    "# How many reports are there of report type FM-16?\n",
    "\n",
    "fm16_df = lax_temp_df.loc[lax_temp_df[\"report_type\"] == \"FM-16\"]\n",
    "len(fm16_df)"
   ]
  },
  {
   "cell_type": "code",
   "execution_count": 21,
   "metadata": {},
   "outputs": [
    {
     "data": {
      "text/plain": [
       "96"
      ]
     },
     "execution_count": 21,
     "metadata": {},
     "output_type": "execute_result"
    }
   ],
   "source": [
    "# How many readings measured a temp over 70?\n",
    "over70_df = lax_temp_df.loc[lax_temp_df[\"hourly_temp\"] > 70]\n",
    "len(over70_df)"
   ]
  },
  {
   "cell_type": "code",
   "execution_count": 22,
   "metadata": {},
   "outputs": [
    {
     "data": {
      "text/plain": [
       "58"
      ]
     },
     "execution_count": 22,
     "metadata": {},
     "output_type": "execute_result"
    }
   ],
   "source": [
    "# What was the temperature for the 276th reading?\n",
    "lax_temp_df.iloc [175, 3]"
   ]
  },
  {
   "cell_type": "code",
   "execution_count": 23,
   "metadata": {},
   "outputs": [
    {
     "data": {
      "text/html": [
       "<div>\n",
       "<style scoped>\n",
       "    .dataframe tbody tr th:only-of-type {\n",
       "        vertical-align: middle;\n",
       "    }\n",
       "\n",
       "    .dataframe tbody tr th {\n",
       "        vertical-align: top;\n",
       "    }\n",
       "\n",
       "    .dataframe thead th {\n",
       "        text-align: right;\n",
       "    }\n",
       "</style>\n",
       "<table border=\"1\" class=\"dataframe\">\n",
       "  <thead>\n",
       "    <tr style=\"text-align: right;\">\n",
       "      <th></th>\n",
       "      <th>station</th>\n",
       "      <th>date</th>\n",
       "      <th>report_type</th>\n",
       "      <th>hourly_temp</th>\n",
       "    </tr>\n",
       "  </thead>\n",
       "  <tbody>\n",
       "    <tr>\n",
       "      <th>500</th>\n",
       "      <td>72295023174</td>\n",
       "      <td>2019-01-15T16:53:00</td>\n",
       "      <td>FM-15</td>\n",
       "      <td>53</td>\n",
       "    </tr>\n",
       "    <tr>\n",
       "      <th>501</th>\n",
       "      <td>72295023174</td>\n",
       "      <td>2019-01-15T17:18:00</td>\n",
       "      <td>FM-16</td>\n",
       "      <td>52</td>\n",
       "    </tr>\n",
       "    <tr>\n",
       "      <th>502</th>\n",
       "      <td>72295023174</td>\n",
       "      <td>2019-01-15T17:40:00</td>\n",
       "      <td>FM-16</td>\n",
       "      <td>52</td>\n",
       "    </tr>\n",
       "    <tr>\n",
       "      <th>503</th>\n",
       "      <td>72295023174</td>\n",
       "      <td>2019-01-15T17:53:00</td>\n",
       "      <td>FM-15</td>\n",
       "      <td>52</td>\n",
       "    </tr>\n",
       "    <tr>\n",
       "      <th>504</th>\n",
       "      <td>72295023174</td>\n",
       "      <td>2019-01-15T18:37:00</td>\n",
       "      <td>FM-16</td>\n",
       "      <td>53</td>\n",
       "    </tr>\n",
       "  </tbody>\n",
       "</table>\n",
       "</div>"
      ],
      "text/plain": [
       "         station                 date report_type  hourly_temp\n",
       "500  72295023174  2019-01-15T16:53:00       FM-15           53\n",
       "501  72295023174  2019-01-15T17:18:00       FM-16           52\n",
       "502  72295023174  2019-01-15T17:40:00       FM-16           52\n",
       "503  72295023174  2019-01-15T17:53:00       FM-15           52\n",
       "504  72295023174  2019-01-15T18:37:00       FM-16           53"
      ]
     },
     "execution_count": 23,
     "metadata": {},
     "output_type": "execute_result"
    }
   ],
   "source": [
    "# What were the dates and report types of rows 500 through 505?\n",
    "lax_temp_df[500:505]"
   ]
  },
  {
   "cell_type": "code",
   "execution_count": 26,
   "metadata": {},
   "outputs": [
    {
     "data": {
      "text/html": [
       "<div>\n",
       "<style scoped>\n",
       "    .dataframe tbody tr th:only-of-type {\n",
       "        vertical-align: middle;\n",
       "    }\n",
       "\n",
       "    .dataframe tbody tr th {\n",
       "        vertical-align: top;\n",
       "    }\n",
       "\n",
       "    .dataframe thead th {\n",
       "        text-align: right;\n",
       "    }\n",
       "</style>\n",
       "<table border=\"1\" class=\"dataframe\">\n",
       "  <thead>\n",
       "    <tr style=\"text-align: right;\">\n",
       "      <th></th>\n",
       "      <th>station</th>\n",
       "      <th>date</th>\n",
       "      <th>report_type</th>\n",
       "      <th>hourly_temp</th>\n",
       "    </tr>\n",
       "  </thead>\n",
       "  <tbody>\n",
       "    <tr>\n",
       "      <th>3519</th>\n",
       "      <td>72295023174</td>\n",
       "      <td>2019-04-18T17:53:00</td>\n",
       "      <td>FM-15</td>\n",
       "      <td>63</td>\n",
       "    </tr>\n",
       "    <tr>\n",
       "      <th>3520</th>\n",
       "      <td>72295023174</td>\n",
       "      <td>2019-04-18T18:53:00</td>\n",
       "      <td>FM-15</td>\n",
       "      <td>61</td>\n",
       "    </tr>\n",
       "    <tr>\n",
       "      <th>3521</th>\n",
       "      <td>72295023174</td>\n",
       "      <td>2019-04-18T19:53:00</td>\n",
       "      <td>FM-15</td>\n",
       "      <td>60</td>\n",
       "    </tr>\n",
       "    <tr>\n",
       "      <th>3522</th>\n",
       "      <td>72295023174</td>\n",
       "      <td>2019-04-18T20:53:00</td>\n",
       "      <td>FM-15</td>\n",
       "      <td>60</td>\n",
       "    </tr>\n",
       "    <tr>\n",
       "      <th>3523</th>\n",
       "      <td>72295023174</td>\n",
       "      <td>2019-04-18T21:48:00</td>\n",
       "      <td>FM-16</td>\n",
       "      <td>61</td>\n",
       "    </tr>\n",
       "    <tr>\n",
       "      <th>3524</th>\n",
       "      <td>72295023174</td>\n",
       "      <td>2019-04-18T21:53:00</td>\n",
       "      <td>FM-15</td>\n",
       "      <td>60</td>\n",
       "    </tr>\n",
       "    <tr>\n",
       "      <th>3525</th>\n",
       "      <td>72295023174</td>\n",
       "      <td>2019-04-18T22:06:00</td>\n",
       "      <td>FM-16</td>\n",
       "      <td>59</td>\n",
       "    </tr>\n",
       "    <tr>\n",
       "      <th>3526</th>\n",
       "      <td>72295023174</td>\n",
       "      <td>2019-04-18T22:12:00</td>\n",
       "      <td>FM-16</td>\n",
       "      <td>58</td>\n",
       "    </tr>\n",
       "    <tr>\n",
       "      <th>3527</th>\n",
       "      <td>72295023174</td>\n",
       "      <td>2019-04-18T22:36:00</td>\n",
       "      <td>FM-16</td>\n",
       "      <td>58</td>\n",
       "    </tr>\n",
       "    <tr>\n",
       "      <th>3528</th>\n",
       "      <td>72295023174</td>\n",
       "      <td>2019-04-18T22:53:00</td>\n",
       "      <td>FM-15</td>\n",
       "      <td>58</td>\n",
       "    </tr>\n",
       "  </tbody>\n",
       "</table>\n",
       "</div>"
      ],
      "text/plain": [
       "          station                 date report_type  hourly_temp\n",
       "3519  72295023174  2019-04-18T17:53:00       FM-15           63\n",
       "3520  72295023174  2019-04-18T18:53:00       FM-15           61\n",
       "3521  72295023174  2019-04-18T19:53:00       FM-15           60\n",
       "3522  72295023174  2019-04-18T20:53:00       FM-15           60\n",
       "3523  72295023174  2019-04-18T21:48:00       FM-16           61\n",
       "3524  72295023174  2019-04-18T21:53:00       FM-15           60\n",
       "3525  72295023174  2019-04-18T22:06:00       FM-16           59\n",
       "3526  72295023174  2019-04-18T22:12:00       FM-16           58\n",
       "3527  72295023174  2019-04-18T22:36:00       FM-16           58\n",
       "3528  72295023174  2019-04-18T22:53:00       FM-15           58"
      ]
     },
     "execution_count": 26,
     "metadata": {},
     "output_type": "execute_result"
    }
   ],
   "source": [
    "# Show the last 10 rows of the DataFrame\n",
    "lax_temp_df.tail(10)"
   ]
  },
  {
   "cell_type": "code",
   "execution_count": null,
   "metadata": {},
   "outputs": [],
   "source": []
  }
 ],
 "metadata": {
  "kernelspec": {
   "display_name": "base",
   "language": "python",
   "name": "python3"
  },
  "language_info": {
   "codemirror_mode": {
    "name": "ipython",
    "version": 3
   },
   "file_extension": ".py",
   "mimetype": "text/x-python",
   "name": "python",
   "nbconvert_exporter": "python",
   "pygments_lexer": "ipython3",
   "version": "3.10.14"
  },
  "orig_nbformat": 4
 },
 "nbformat": 4,
 "nbformat_minor": 2
}
