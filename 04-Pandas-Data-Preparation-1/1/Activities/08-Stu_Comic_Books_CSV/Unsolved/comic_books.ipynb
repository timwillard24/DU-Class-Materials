{
 "cells": [
  {
   "cell_type": "code",
   "execution_count": 26,
   "metadata": {},
   "outputs": [],
   "source": [
    "# Import Dependencies\n",
    "import pandas as pd\n",
    "from pathlib import Path"
   ]
  },
  {
   "cell_type": "code",
   "execution_count": 27,
   "metadata": {},
   "outputs": [],
   "source": [
    "# Import the comic_books_expanded.csv file as a DataFrame\n",
    "comics_df = pd.read_csv(\"../Resources/comic_books_expanded.csv\")"
   ]
  },
  {
   "cell_type": "code",
   "execution_count": 28,
   "metadata": {},
   "outputs": [],
   "source": [
    "# Remove unnecessary columns from the DataFrame and save the new DataFrame\n",
    "# Only keep: \"ISBN\", \"Title\", \"Other titles\", \"Name\", \"All names\", \n",
    "# \"Country of publication\", \"Place of publication\", \"Publisher\", \"Date of publication\"\n",
    "comics_df = comics_df[[\"ISBN\", \"Title\", \"Other titles\", \"Name\", \"All names\",\n",
    "                       \"Country of publication\", \"Place of publication\", \n",
    "                       \"Publisher\", \"Date of publication\"]]"
   ]
  },
  {
   "cell_type": "code",
   "execution_count": 29,
   "metadata": {},
   "outputs": [
    {
     "data": {
      "text/html": [
       "<div>\n",
       "<style scoped>\n",
       "    .dataframe tbody tr th:only-of-type {\n",
       "        vertical-align: middle;\n",
       "    }\n",
       "\n",
       "    .dataframe tbody tr th {\n",
       "        vertical-align: top;\n",
       "    }\n",
       "\n",
       "    .dataframe thead th {\n",
       "        text-align: right;\n",
       "    }\n",
       "</style>\n",
       "<table border=\"1\" class=\"dataframe\">\n",
       "  <thead>\n",
       "    <tr style=\"text-align: right;\">\n",
       "      <th></th>\n",
       "      <th>ISBN</th>\n",
       "      <th>Title</th>\n",
       "      <th>Other titles</th>\n",
       "      <th>Author</th>\n",
       "      <th>All names</th>\n",
       "      <th>Country of publication</th>\n",
       "      <th>Place of publication</th>\n",
       "      <th>Publisher</th>\n",
       "      <th>Publication Year</th>\n",
       "    </tr>\n",
       "  </thead>\n",
       "  <tbody>\n",
       "    <tr>\n",
       "      <th>0</th>\n",
       "      <td>9780930193904</td>\n",
       "      <td>#$@&amp;! : the official Lloyd Llewellyn collection</td>\n",
       "      <td>Official Lloyd Llewellyn collection</td>\n",
       "      <td>Clowes, Daniel</td>\n",
       "      <td>Clowes, Daniel [person]</td>\n",
       "      <td>England ; United States of America</td>\n",
       "      <td>London ; Seattle, Washington</td>\n",
       "      <td>Fantagraphics ; Turnaround</td>\n",
       "      <td>1997</td>\n",
       "    </tr>\n",
       "    <tr>\n",
       "      <th>1</th>\n",
       "      <td>9780992664220</td>\n",
       "      <td>#WhatDoYouSee? : a graphic novel anthology of ...</td>\n",
       "      <td>NaN</td>\n",
       "      <td>NaN</td>\n",
       "      <td>Fulfilling Lives (Programme) [organisation]</td>\n",
       "      <td>England</td>\n",
       "      <td>Newcastle upon Tyne</td>\n",
       "      <td>Roots &amp; Wings</td>\n",
       "      <td>2018</td>\n",
       "    </tr>\n",
       "    <tr>\n",
       "      <th>2</th>\n",
       "      <td>9781302903299</td>\n",
       "      <td>#takebacktheshield</td>\n",
       "      <td>NaN</td>\n",
       "      <td>Spencer, Nick</td>\n",
       "      <td>Spencer, Nick, author [person]</td>\n",
       "      <td>United States of America</td>\n",
       "      <td>New York</td>\n",
       "      <td>Marvel Worldwide</td>\n",
       "      <td>2017</td>\n",
       "    </tr>\n",
       "    <tr>\n",
       "      <th>3</th>\n",
       "      <td>9781607065166</td>\n",
       "      <td>'68. Volume 1. Better run through the jungle</td>\n",
       "      <td>Better run through the jungle</td>\n",
       "      <td>Kidwell, Mark</td>\n",
       "      <td>Fotos, Jay [person] ; Jones, Nat, 1976- [perso...</td>\n",
       "      <td>United States of America</td>\n",
       "      <td>Berkeley, California</td>\n",
       "      <td>Image Comics</td>\n",
       "      <td>2012</td>\n",
       "    </tr>\n",
       "    <tr>\n",
       "      <th>4</th>\n",
       "      <td>9781600107672</td>\n",
       "      <td>'Bots of science</td>\n",
       "      <td>Trans formers ; Trans formers animated : bots ...</td>\n",
       "      <td>Bryant, Megan E.</td>\n",
       "      <td>Robbins, Robbie [person] ; Boo, 1981- [person]...</td>\n",
       "      <td>United States of America</td>\n",
       "      <td>San Diego, California</td>\n",
       "      <td>NaN</td>\n",
       "      <td>2010</td>\n",
       "    </tr>\n",
       "  </tbody>\n",
       "</table>\n",
       "</div>"
      ],
      "text/plain": [
       "            ISBN                                              Title  \\\n",
       "0  9780930193904    #$@&! : the official Lloyd Llewellyn collection   \n",
       "1  9780992664220  #WhatDoYouSee? : a graphic novel anthology of ...   \n",
       "2  9781302903299                                 #takebacktheshield   \n",
       "3  9781607065166       '68. Volume 1. Better run through the jungle   \n",
       "4  9781600107672                                   'Bots of science   \n",
       "\n",
       "                                        Other titles            Author  \\\n",
       "0                Official Lloyd Llewellyn collection    Clowes, Daniel   \n",
       "1                                                NaN               NaN   \n",
       "2                                                NaN     Spencer, Nick   \n",
       "3                      Better run through the jungle     Kidwell, Mark   \n",
       "4  Trans formers ; Trans formers animated : bots ...  Bryant, Megan E.   \n",
       "\n",
       "                                           All names  \\\n",
       "0                            Clowes, Daniel [person]   \n",
       "1        Fulfilling Lives (Programme) [organisation]   \n",
       "2                     Spencer, Nick, author [person]   \n",
       "3  Fotos, Jay [person] ; Jones, Nat, 1976- [perso...   \n",
       "4  Robbins, Robbie [person] ; Boo, 1981- [person]...   \n",
       "\n",
       "               Country of publication          Place of publication  \\\n",
       "0  England ; United States of America  London ; Seattle, Washington   \n",
       "1                             England           Newcastle upon Tyne   \n",
       "2            United States of America                      New York   \n",
       "3            United States of America          Berkeley, California   \n",
       "4            United States of America         San Diego, California   \n",
       "\n",
       "                    Publisher  Publication Year  \n",
       "0  Fantagraphics ; Turnaround              1997  \n",
       "1               Roots & Wings              2018  \n",
       "2            Marvel Worldwide              2017  \n",
       "3                Image Comics              2012  \n",
       "4                         NaN              2010  "
      ]
     },
     "execution_count": 29,
     "metadata": {},
     "output_type": "execute_result"
    }
   ],
   "source": [
    "# Rename the columns\n",
    "comics_df = comics_df.rename(columns={\"Name\":\"Author\", \"Date of publication\":\"Publication Year\"})\n",
    "comics_df.head()\n"
   ]
  },
  {
   "cell_type": "code",
   "execution_count": 30,
   "metadata": {},
   "outputs": [
    {
     "name": "stdout",
     "output_type": "stream",
     "text": [
      "18\n"
     ]
    }
   ],
   "source": [
    "# How many comics were published in the 1960s?\n",
    "comics_1960s_df = comics_df.loc[(comics_df['Publication Year'] >= 1960) & (comics_df['Publication Year'] < 1970)]\n",
    "print(len(comics_1960s_df))"
   ]
  },
  {
   "cell_type": "code",
   "execution_count": 31,
   "metadata": {},
   "outputs": [
    {
     "data": {
      "text/plain": [
       "423"
      ]
     },
     "execution_count": 31,
     "metadata": {},
     "output_type": "execute_result"
    }
   ],
   "source": [
    "# Are there more batman comics or superman comics?\n",
    "# To start, how many batman comics are listed?\n",
    "\n",
    "batman_comics_df = comics_df.loc[comics_df['Title'].str.contains('batman', case=False)]\n",
    "len(batman_comics_df)"
   ]
  },
  {
   "cell_type": "code",
   "execution_count": 33,
   "metadata": {},
   "outputs": [
    {
     "data": {
      "text/plain": [
       "260"
      ]
     },
     "execution_count": 33,
     "metadata": {},
     "output_type": "execute_result"
    }
   ],
   "source": [
    "# How many superman comics are listed?\n",
    "superman_comics_df = comics_df.loc[comics_df['Title'].str.contains('superman', case=False)]\n",
    "len(superman_comics_df)"
   ]
  },
  {
   "cell_type": "markdown",
   "metadata": {},
   "source": [
    "## Summary\n",
    "There are more Batman comics than Superman comics in the dataset."
   ]
  },
  {
   "cell_type": "markdown",
   "metadata": {},
   "source": []
  }
 ],
 "metadata": {
  "kernelspec": {
   "display_name": "Python 3 (ipykernel)",
   "language": "python",
   "name": "python3"
  },
  "language_info": {
   "codemirror_mode": {
    "name": "ipython",
    "version": 3
   },
   "file_extension": ".py",
   "mimetype": "text/x-python",
   "name": "python",
   "nbconvert_exporter": "python",
   "pygments_lexer": "ipython3",
   "version": "3.10.14"
  },
  "nteract": {
   "version": "0.11.9"
  }
 },
 "nbformat": 4,
 "nbformat_minor": 2
}
