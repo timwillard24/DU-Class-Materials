{
 "cells": [
  {
   "cell_type": "code",
   "execution_count": 1,
   "metadata": {},
   "outputs": [],
   "source": [
    "import pandas as pd"
   ]
  },
  {
   "cell_type": "code",
   "execution_count": 2,
   "metadata": {},
   "outputs": [
    {
     "data": {
      "text/html": [
       "<div>\n",
       "<style scoped>\n",
       "    .dataframe tbody tr th:only-of-type {\n",
       "        vertical-align: middle;\n",
       "    }\n",
       "\n",
       "    .dataframe tbody tr th {\n",
       "        vertical-align: top;\n",
       "    }\n",
       "\n",
       "    .dataframe thead th {\n",
       "        text-align: right;\n",
       "    }\n",
       "</style>\n",
       "<table border=\"1\" class=\"dataframe\">\n",
       "  <thead>\n",
       "    <tr style=\"text-align: right;\">\n",
       "      <th></th>\n",
       "      <th>Year</th>\n",
       "      <th>Month Number</th>\n",
       "      <th>Month</th>\n",
       "      <th>Utility</th>\n",
       "      <th>Owner</th>\n",
       "      <th>Units</th>\n",
       "      <th>Usage</th>\n",
       "    </tr>\n",
       "  </thead>\n",
       "  <tbody>\n",
       "    <tr>\n",
       "      <th>0</th>\n",
       "      <td>2013</td>\n",
       "      <td>1</td>\n",
       "      <td>Jan</td>\n",
       "      <td>Passengers</td>\n",
       "      <td>Campus</td>\n",
       "      <td>PAX</td>\n",
       "      <td>3209356.0</td>\n",
       "    </tr>\n",
       "    <tr>\n",
       "      <th>1</th>\n",
       "      <td>2013</td>\n",
       "      <td>1</td>\n",
       "      <td>Jan</td>\n",
       "      <td>Gas</td>\n",
       "      <td>Commission</td>\n",
       "      <td>Therms</td>\n",
       "      <td>363205.0</td>\n",
       "    </tr>\n",
       "    <tr>\n",
       "      <th>2</th>\n",
       "      <td>2013</td>\n",
       "      <td>1</td>\n",
       "      <td>Jan</td>\n",
       "      <td>Gas</td>\n",
       "      <td>Tenant</td>\n",
       "      <td>Therms</td>\n",
       "      <td>49393.0</td>\n",
       "    </tr>\n",
       "    <tr>\n",
       "      <th>3</th>\n",
       "      <td>2013</td>\n",
       "      <td>1</td>\n",
       "      <td>Jan</td>\n",
       "      <td>Electricity</td>\n",
       "      <td>Commission</td>\n",
       "      <td>kWh</td>\n",
       "      <td>12904353.0</td>\n",
       "    </tr>\n",
       "    <tr>\n",
       "      <th>4</th>\n",
       "      <td>2013</td>\n",
       "      <td>1</td>\n",
       "      <td>Jan</td>\n",
       "      <td>Electricity</td>\n",
       "      <td>Tenant</td>\n",
       "      <td>kWh</td>\n",
       "      <td>14002156.0</td>\n",
       "    </tr>\n",
       "  </tbody>\n",
       "</table>\n",
       "</div>"
      ],
      "text/plain": [
       "   Year  Month Number Month      Utility       Owner   Units       Usage\n",
       "0  2013             1   Jan   Passengers      Campus     PAX   3209356.0\n",
       "1  2013             1   Jan          Gas  Commission  Therms    363205.0\n",
       "2  2013             1   Jan          Gas      Tenant  Therms     49393.0\n",
       "3  2013             1   Jan  Electricity  Commission     kWh  12904353.0\n",
       "4  2013             1   Jan  Electricity      Tenant     kWh  14002156.0"
      ]
     },
     "execution_count": 2,
     "metadata": {},
     "output_type": "execute_result"
    }
   ],
   "source": [
    "# Import the data\n",
    "file = '../Resources/SFO_Airport_Utility_Consumption.csv'\n",
    "utilities_df = pd.read_csv(file)\n",
    "\n",
    "utilities_df.head()"
   ]
  },
  {
   "cell_type": "markdown",
   "metadata": {},
   "source": [
    "# Question: \n",
    "### Which utility's usage changed the most from 2013 to 2018?"
   ]
  },
  {
   "cell_type": "code",
   "execution_count": 24,
   "metadata": {},
   "outputs": [
    {
     "data": {
      "text/html": [
       "<div>\n",
       "<style scoped>\n",
       "    .dataframe tbody tr th:only-of-type {\n",
       "        vertical-align: middle;\n",
       "    }\n",
       "\n",
       "    .dataframe tbody tr th {\n",
       "        vertical-align: top;\n",
       "    }\n",
       "\n",
       "    .dataframe thead th {\n",
       "        text-align: right;\n",
       "    }\n",
       "</style>\n",
       "<table border=\"1\" class=\"dataframe\">\n",
       "  <thead>\n",
       "    <tr style=\"text-align: right;\">\n",
       "      <th></th>\n",
       "      <th>Year</th>\n",
       "      <th>Utility</th>\n",
       "      <th>Units</th>\n",
       "      <th>Usage</th>\n",
       "    </tr>\n",
       "  </thead>\n",
       "  <tbody>\n",
       "    <tr>\n",
       "      <th>0</th>\n",
       "      <td>2013</td>\n",
       "      <td>Passengers</td>\n",
       "      <td>PAX</td>\n",
       "      <td>3209356.0</td>\n",
       "    </tr>\n",
       "    <tr>\n",
       "      <th>1</th>\n",
       "      <td>2013</td>\n",
       "      <td>Gas</td>\n",
       "      <td>Therms</td>\n",
       "      <td>363205.0</td>\n",
       "    </tr>\n",
       "    <tr>\n",
       "      <th>2</th>\n",
       "      <td>2013</td>\n",
       "      <td>Gas</td>\n",
       "      <td>Therms</td>\n",
       "      <td>49393.0</td>\n",
       "    </tr>\n",
       "    <tr>\n",
       "      <th>3</th>\n",
       "      <td>2013</td>\n",
       "      <td>Electricity</td>\n",
       "      <td>kWh</td>\n",
       "      <td>12904353.0</td>\n",
       "    </tr>\n",
       "    <tr>\n",
       "      <th>4</th>\n",
       "      <td>2013</td>\n",
       "      <td>Electricity</td>\n",
       "      <td>kWh</td>\n",
       "      <td>14002156.0</td>\n",
       "    </tr>\n",
       "  </tbody>\n",
       "</table>\n",
       "</div>"
      ],
      "text/plain": [
       "   Year      Utility   Units       Usage\n",
       "0  2013   Passengers     PAX   3209356.0\n",
       "1  2013          Gas  Therms    363205.0\n",
       "2  2013          Gas  Therms     49393.0\n",
       "3  2013  Electricity     kWh  12904353.0\n",
       "4  2013  Electricity     kWh  14002156.0"
      ]
     },
     "execution_count": 24,
     "metadata": {},
     "output_type": "execute_result"
    }
   ],
   "source": [
    "# Data Collection and Cleaning\n",
    "# Select only the needed columns\n",
    "utils_df_cleaning = utilities_df[['Year', 'Utility', 'Units', 'Usage']]\n",
    "utils_df_cleaning.head()"
   ]
  },
  {
   "cell_type": "code",
   "execution_count": 25,
   "metadata": {},
   "outputs": [],
   "source": [
    "# Scale the Usage column to be more readable\n",
    "# Rows with \"Water\" as the utility can be left as is\n",
    "def scale_to_millions(row):\n",
    "    if row['Utility']=='Water':\n",
    "        return row['Usage']/1000000\n",
    "\n",
    "    return row['Usage']"
   ]
  },
  {
   "cell_type": "code",
   "execution_count": 26,
   "metadata": {},
   "outputs": [
    {
     "name": "stdout",
     "output_type": "stream",
     "text": [
      "   Year      Utility          Units       Usage\n",
      "0  2013   Passengers     MillionPAX   3209356.0\n",
      "1  2013          Gas  MillionTherms    363205.0\n",
      "2  2013          Gas  MillionTherms     49393.0\n",
      "3  2013  Electricity     MillionkWh  12904353.0\n",
      "4  2013  Electricity     MillionkWh  14002156.0\n"
     ]
    },
    {
     "name": "stderr",
     "output_type": "stream",
     "text": [
      "/var/folders/0v/k5cxfnrj4_x27cyj9ynqp8qh0000gn/T/ipykernel_20712/381853282.py:6: SettingWithCopyWarning: \n",
      "A value is trying to be set on a copy of a slice from a DataFrame.\n",
      "Try using .loc[row_indexer,col_indexer] = value instead\n",
      "\n",
      "See the caveats in the documentation: https://pandas.pydata.org/pandas-docs/stable/user_guide/indexing.html#returning-a-view-versus-a-copy\n",
      "  utils_df_cleaning['Units']=utils_df_cleaning.apply(millions_of_units, axis=1)\n"
     ]
    }
   ],
   "source": [
    "# Alter the Units column to reflect the changes\n",
    "def millions_of_units(row):\n",
    "    if row['Utility']=='Water':\n",
    "        return row['Units']\n",
    "    return 'Million' + row['Units']\n",
    "utils_df_cleaning['Units']=utils_df_cleaning.apply(millions_of_units, axis=1)\n",
    "print(utils_df_cleaning.head())"
   ]
  },
  {
   "cell_type": "code",
   "execution_count": 28,
   "metadata": {},
   "outputs": [
    {
     "name": "stderr",
     "output_type": "stream",
     "text": [
      "/var/folders/0v/k5cxfnrj4_x27cyj9ynqp8qh0000gn/T/ipykernel_20712/1420502252.py:5: SettingWithCopyWarning: \n",
      "A value is trying to be set on a copy of a slice from a DataFrame.\n",
      "Try using .loc[row_indexer,col_indexer] = value instead\n",
      "\n",
      "See the caveats in the documentation: https://pandas.pydata.org/pandas-docs/stable/user_guide/indexing.html#returning-a-view-versus-a-copy\n",
      "  utils_df_cleaning['Utility']=utils_df_cleaning.apply(combined_utility_and_units, axis=1)\n"
     ]
    },
    {
     "data": {
      "text/html": [
       "<div>\n",
       "<style scoped>\n",
       "    .dataframe tbody tr th:only-of-type {\n",
       "        vertical-align: middle;\n",
       "    }\n",
       "\n",
       "    .dataframe tbody tr th {\n",
       "        vertical-align: top;\n",
       "    }\n",
       "\n",
       "    .dataframe thead th {\n",
       "        text-align: right;\n",
       "    }\n",
       "</style>\n",
       "<table border=\"1\" class=\"dataframe\">\n",
       "  <thead>\n",
       "    <tr style=\"text-align: right;\">\n",
       "      <th></th>\n",
       "      <th>Year</th>\n",
       "      <th>Utility</th>\n",
       "      <th>Units</th>\n",
       "      <th>Usage</th>\n",
       "    </tr>\n",
       "  </thead>\n",
       "  <tbody>\n",
       "    <tr>\n",
       "      <th>0</th>\n",
       "      <td>2013</td>\n",
       "      <td>Passengers (MillionPAX)</td>\n",
       "      <td>MillionPAX</td>\n",
       "      <td>3209356.0</td>\n",
       "    </tr>\n",
       "    <tr>\n",
       "      <th>1</th>\n",
       "      <td>2013</td>\n",
       "      <td>Gas (MillionTherms)</td>\n",
       "      <td>MillionTherms</td>\n",
       "      <td>363205.0</td>\n",
       "    </tr>\n",
       "    <tr>\n",
       "      <th>2</th>\n",
       "      <td>2013</td>\n",
       "      <td>Gas (MillionTherms)</td>\n",
       "      <td>MillionTherms</td>\n",
       "      <td>49393.0</td>\n",
       "    </tr>\n",
       "    <tr>\n",
       "      <th>3</th>\n",
       "      <td>2013</td>\n",
       "      <td>Electricity (MillionkWh)</td>\n",
       "      <td>MillionkWh</td>\n",
       "      <td>12904353.0</td>\n",
       "    </tr>\n",
       "    <tr>\n",
       "      <th>4</th>\n",
       "      <td>2013</td>\n",
       "      <td>Electricity (MillionkWh)</td>\n",
       "      <td>MillionkWh</td>\n",
       "      <td>14002156.0</td>\n",
       "    </tr>\n",
       "  </tbody>\n",
       "</table>\n",
       "</div>"
      ],
      "text/plain": [
       "   Year                   Utility          Units       Usage\n",
       "0  2013   Passengers (MillionPAX)     MillionPAX   3209356.0\n",
       "1  2013       Gas (MillionTherms)  MillionTherms    363205.0\n",
       "2  2013       Gas (MillionTherms)  MillionTherms     49393.0\n",
       "3  2013  Electricity (MillionkWh)     MillionkWh  12904353.0\n",
       "4  2013  Electricity (MillionkWh)     MillionkWh  14002156.0"
      ]
     },
     "execution_count": 28,
     "metadata": {},
     "output_type": "execute_result"
    }
   ],
   "source": [
    "# Combine the Utility and Units columns\n",
    "# by putting Units in parentheses\n",
    "def combined_utility_and_units(row):\n",
    "    return f\"{row['Utility']} ({row['Units']})\"\n",
    "utils_df_cleaning['Utility']=utils_df_cleaning.apply(combined_utility_and_units, axis=1)\n",
    "utils_df_cleaning.head()"
   ]
  },
  {
   "cell_type": "code",
   "execution_count": 30,
   "metadata": {},
   "outputs": [
    {
     "name": "stdout",
     "output_type": "stream",
     "text": [
      "                               Usage\n",
      "Utility                             \n",
      "Passengers (MillionPAX)    3209356.0\n",
      "Gas (MillionTherms)         363205.0\n",
      "Gas (MillionTherms)          49393.0\n",
      "Electricity (MillionkWh)  12904353.0\n",
      "Electricity (MillionkWh)  14002156.0\n",
      "                                 Usage\n",
      "Utility                               \n",
      "Passengers (MillionPAX)   4.191545e+06\n",
      "Gas (MillionTherms)       2.739915e+05\n",
      "Gas (MillionTherms)       5.766990e+04\n",
      "Electricity (MillionkWh)  1.369217e+07\n",
      "Electricity (MillionkWh)  1.234269e+07\n"
     ]
    }
   ],
   "source": [
    "# Create two new DataFrames with data from 2013\n",
    "# and 2018 that each contain only the Utility and \n",
    "# Usage column. Reset the index  for each \n",
    "# DataFrame to Utility\n",
    "utils_2013_df_cleaned = utils_df_cleaning.loc[utils_df_cleaning['Year'] == 2013, ['Utility', 'Usage']].copy().set_index('Utility')\n",
    "utils_2018_df_cleaned = utils_df_cleaning.loc[utils_df_cleaning['Year'] == 2018, ['Utility', 'Usage']].copy().set_index('Utility')\n",
    "\n",
    "# Display the first few rows of the DataFrame\n",
    "print(utils_2013_df_cleaned.head())\n",
    "print(utils_2018_df_cleaned.head())"
   ]
  },
  {
   "cell_type": "code",
   "execution_count": 38,
   "metadata": {},
   "outputs": [
    {
     "name": "stdout",
     "output_type": "stream",
     "text": [
      "{'Period': 2013, 'Utility': 390.932476}\n",
      "{'Period': 2018, 'Utility': 410.236112}\n"
     ]
    }
   ],
   "source": [
    "# Analyze\n",
    "utlities=utils_2013_df_cleaned.index.unique()\n",
    "totals_2013={'Period':2013}\n",
    "totals_2018={'Period':2018}\n",
    "# Calculate the totals for each utility\n",
    "for utility in utlities:\n",
    "    totals_2013['Utility']=utils_2013_df_cleaned.loc[utility, 'Usage'].sum()\n",
    "    totals_2018['Utility']=utils_2018_df_cleaned.loc[utility, 'Usage'].sum()\n",
    "utlities \n",
    "print(totals_2013)\n",
    "print(totals_2018)"
   ]
  },
  {
   "cell_type": "code",
   "execution_count": null,
   "metadata": {},
   "outputs": [],
   "source": [
    "def get_percentage(original, final):\n",
    "    return round((final-original)/original,3)*100"
   ]
  },
  {
   "cell_type": "code",
   "execution_count": 9,
   "metadata": {},
   "outputs": [
    {
     "data": {
      "text/html": [
       "<div>\n",
       "<style scoped>\n",
       "    .dataframe tbody tr th:only-of-type {\n",
       "        vertical-align: middle;\n",
       "    }\n",
       "\n",
       "    .dataframe tbody tr th {\n",
       "        vertical-align: top;\n",
       "    }\n",
       "\n",
       "    .dataframe thead th {\n",
       "        text-align: right;\n",
       "    }\n",
       "</style>\n",
       "<table border=\"1\" class=\"dataframe\">\n",
       "  <thead>\n",
       "    <tr style=\"text-align: right;\">\n",
       "      <th></th>\n",
       "      <th>Utility</th>\n",
       "      <th>2013</th>\n",
       "      <th>2018</th>\n",
       "      <th>Difference</th>\n",
       "      <th>Change %</th>\n",
       "    </tr>\n",
       "  </thead>\n",
       "  <tbody>\n",
       "    <tr>\n",
       "      <th>0</th>\n",
       "      <td>Passengers (Million PAX)</td>\n",
       "      <td>45.0</td>\n",
       "      <td>57.8</td>\n",
       "      <td>12.8</td>\n",
       "      <td>28.4</td>\n",
       "    </tr>\n",
       "    <tr>\n",
       "      <th>1</th>\n",
       "      <td>Gas (Million Therms)</td>\n",
       "      <td>3.9</td>\n",
       "      <td>3.6</td>\n",
       "      <td>-0.3</td>\n",
       "      <td>-6.8</td>\n",
       "    </tr>\n",
       "    <tr>\n",
       "      <th>2</th>\n",
       "      <td>Electricity (Million kWh)</td>\n",
       "      <td>330.3</td>\n",
       "      <td>311.2</td>\n",
       "      <td>-19.1</td>\n",
       "      <td>-5.8</td>\n",
       "    </tr>\n",
       "    <tr>\n",
       "      <th>3</th>\n",
       "      <td>Water (Million Gallons)</td>\n",
       "      <td>390.9</td>\n",
       "      <td>410.2</td>\n",
       "      <td>19.3</td>\n",
       "      <td>4.9</td>\n",
       "    </tr>\n",
       "  </tbody>\n",
       "</table>\n",
       "</div>"
      ],
      "text/plain": [
       "                     Utility   2013   2018  Difference  Change %\n",
       "0   Passengers (Million PAX)   45.0   57.8        12.8      28.4\n",
       "1       Gas (Million Therms)    3.9    3.6        -0.3      -6.8\n",
       "2  Electricity (Million kWh)  330.3  311.2       -19.1      -5.8\n",
       "3    Water (Million Gallons)  390.9  410.2        19.3       4.9"
      ]
     },
     "execution_count": 9,
     "metadata": {},
     "output_type": "execute_result"
    }
   ],
   "source": [
    "# Calculate the change per utility as a percentage\n",
    "# of each utility's 2013 total.\n",
    "\n",
    "\n",
    "\n",
    "\n",
    "\n",
    "# Create a dataframe with the results\n",
    "\n"
   ]
  },
  {
   "cell_type": "code",
   "execution_count": 10,
   "metadata": {},
   "outputs": [
    {
     "data": {
      "text/html": [
       "<div>\n",
       "<style scoped>\n",
       "    .dataframe tbody tr th:only-of-type {\n",
       "        vertical-align: middle;\n",
       "    }\n",
       "\n",
       "    .dataframe tbody tr th {\n",
       "        vertical-align: top;\n",
       "    }\n",
       "\n",
       "    .dataframe thead th {\n",
       "        text-align: right;\n",
       "    }\n",
       "</style>\n",
       "<table border=\"1\" class=\"dataframe\">\n",
       "  <thead>\n",
       "    <tr style=\"text-align: right;\">\n",
       "      <th></th>\n",
       "      <th>2013</th>\n",
       "      <th>2018</th>\n",
       "      <th>Difference</th>\n",
       "      <th>Change %</th>\n",
       "    </tr>\n",
       "    <tr>\n",
       "      <th>Utility</th>\n",
       "      <th></th>\n",
       "      <th></th>\n",
       "      <th></th>\n",
       "      <th></th>\n",
       "    </tr>\n",
       "  </thead>\n",
       "  <tbody>\n",
       "    <tr>\n",
       "      <th>Passengers (Million PAX)</th>\n",
       "      <td>45.0</td>\n",
       "      <td>57.8</td>\n",
       "      <td>12.8</td>\n",
       "      <td>28.4</td>\n",
       "    </tr>\n",
       "    <tr>\n",
       "      <th>Water (Million Gallons)</th>\n",
       "      <td>390.9</td>\n",
       "      <td>410.2</td>\n",
       "      <td>19.3</td>\n",
       "      <td>4.9</td>\n",
       "    </tr>\n",
       "    <tr>\n",
       "      <th>Electricity (Million kWh)</th>\n",
       "      <td>330.3</td>\n",
       "      <td>311.2</td>\n",
       "      <td>-19.1</td>\n",
       "      <td>-5.8</td>\n",
       "    </tr>\n",
       "    <tr>\n",
       "      <th>Gas (Million Therms)</th>\n",
       "      <td>3.9</td>\n",
       "      <td>3.6</td>\n",
       "      <td>-0.3</td>\n",
       "      <td>-6.8</td>\n",
       "    </tr>\n",
       "  </tbody>\n",
       "</table>\n",
       "</div>"
      ],
      "text/plain": [
       "                            2013   2018  Difference  Change %\n",
       "Utility                                                      \n",
       "Passengers (Million PAX)    45.0   57.8        12.8      28.4\n",
       "Water (Million Gallons)    390.9  410.2        19.3       4.9\n",
       "Electricity (Million kWh)  330.3  311.2       -19.1      -5.8\n",
       "Gas (Million Therms)         3.9    3.6        -0.3      -6.8"
      ]
     },
     "execution_count": 10,
     "metadata": {},
     "output_type": "execute_result"
    }
   ],
   "source": [
    "# Set the index to the utility column\n",
    "\n",
    "# Sort the rows based on Change %\n"
   ]
  },
  {
   "cell_type": "markdown",
   "metadata": {},
   "source": [
    "# Summary\n",
    "The number of passengers using the airport grew 28% in just 5 short years! Water consumption rose slightly at 4.9%, but despite the increase in airport traffic, Electricity and Gas usage were both down in 2018 compared to 2013, with Gas leading the charge with a 6.8% decline. "
   ]
  },
  {
   "cell_type": "code",
   "execution_count": null,
   "metadata": {},
   "outputs": [],
   "source": []
  }
 ],
 "metadata": {
  "kernelspec": {
   "display_name": "Python 3 (ipykernel)",
   "language": "python",
   "name": "python3"
  },
  "language_info": {
   "codemirror_mode": {
    "name": "ipython",
    "version": 3
   },
   "file_extension": ".py",
   "mimetype": "text/x-python",
   "name": "python",
   "nbconvert_exporter": "python",
   "pygments_lexer": "ipython3",
   "version": "3.10.14"
  }
 },
 "nbformat": 4,
 "nbformat_minor": 2
}
